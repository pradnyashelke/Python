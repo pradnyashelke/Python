{
 "cells": [
  {
   "cell_type": "code",
   "execution_count": 1,
   "metadata": {},
   "outputs": [
    {
     "name": "stdout",
     "output_type": "stream",
     "text": [
      "Hello, World.\n"
     ]
    }
   ],
   "source": [
    "run hello.py"
   ]
  },
  {
   "cell_type": "code",
   "execution_count": 2,
   "metadata": {},
   "outputs": [
    {
     "name": "stdout",
     "output_type": "stream",
     "text": [
      "The Zen of Python, by Tim Peters\n",
      "\n",
      "Beautiful is better than ugly.\n",
      "Explicit is better than implicit.\n",
      "Simple is better than complex.\n",
      "Complex is better than complicated.\n",
      "Flat is better than nested.\n",
      "Sparse is better than dense.\n",
      "Readability counts.\n",
      "Special cases aren't special enough to break the rules.\n",
      "Although practicality beats purity.\n",
      "Errors should never pass silently.\n",
      "Unless explicitly silenced.\n",
      "In the face of ambiguity, refuse the temptation to guess.\n",
      "There should be one-- and preferably only one --obvious way to do it.\n",
      "Although that way may not be obvious at first unless you're Dutch.\n",
      "Now is better than never.\n",
      "Although never is often better than *right* now.\n",
      "If the implementation is hard to explain, it's a bad idea.\n",
      "If the implementation is easy to explain, it may be a good idea.\n",
      "Namespaces are one honking great idea -- let's do more of those!\n"
     ]
    }
   ],
   "source": [
    "import this"
   ]
  },
  {
   "cell_type": "code",
   "execution_count": 6,
   "metadata": {},
   "outputs": [
    {
     "name": "stdout",
     "output_type": "stream",
     "text": [
      "['miru', 'meri miru']\n"
     ]
    }
   ],
   "source": [
    "mylist=[]\n",
    "mylist.append('miru')\n",
    "mylist.append('meri miru')\n",
    "print(mylist)"
   ]
  },
  {
   "cell_type": "code",
   "execution_count": 7,
   "metadata": {},
   "outputs": [
    {
     "ename": "SyntaxError",
     "evalue": "Missing parentheses in call to 'print'. Did you mean print(\"Hello, Python!\")? (<ipython-input-7-fdf7736822d6>, line 1)",
     "output_type": "error",
     "traceback": [
      "\u001b[1;36m  File \u001b[1;32m\"<ipython-input-7-fdf7736822d6>\"\u001b[1;36m, line \u001b[1;32m1\u001b[0m\n\u001b[1;33m    print \"Hello, Python!\"\u001b[0m\n\u001b[1;37m                         ^\u001b[0m\n\u001b[1;31mSyntaxError\u001b[0m\u001b[1;31m:\u001b[0m Missing parentheses in call to 'print'. Did you mean print(\"Hello, Python!\")?\n"
     ]
    }
   ],
   "source": [
    " print \"Hello, Python!\""
   ]
  },
  {
   "cell_type": "code",
   "execution_count": 8,
   "metadata": {},
   "outputs": [
    {
     "name": "stdout",
     "output_type": "stream",
     "text": [
      "5>2\n"
     ]
    }
   ],
   "source": [
    "if 5 > 2 :\n",
    "    print(\"5>2\")"
   ]
  },
  {
   "cell_type": "code",
   "execution_count": 9,
   "metadata": {},
   "outputs": [
    {
     "name": "stdout",
     "output_type": "stream",
     "text": [
      "x is greater than y\n"
     ]
    }
   ],
   "source": [
    "#This is a comment\n",
    "x=5\n",
    "y=2\n",
    "if x>y:\n",
    "    print(\"x is greater than y\")\n",
    "    "
   ]
  },
  {
   "cell_type": "code",
   "execution_count": 13,
   "metadata": {},
   "outputs": [
    {
     "name": "stdout",
     "output_type": "stream",
     "text": [
      "<class 'int'>\n",
      "<class 'str'>\n"
     ]
    }
   ],
   "source": [
    "x=int(3)\n",
    "y=str(3)\n",
    "print(type(x))\n",
    "print(type(y))"
   ]
  },
  {
   "cell_type": "code",
   "execution_count": 18,
   "metadata": {},
   "outputs": [
    {
     "name": "stdout",
     "output_type": "stream",
     "text": [
      "6\n",
      "9\n",
      "y greater than x\n"
     ]
    }
   ],
   "source": [
    "x,y=6,9\n",
    "print(x)\n",
    "print(y)\n",
    "if x>y:\n",
    "    print(\"x greater than y\")   \n",
    "else:\n",
    "    print(\"y greater than x\")"
   ]
  },
  {
   "cell_type": "code",
   "execution_count": 19,
   "metadata": {},
   "outputs": [
    {
     "name": "stdout",
     "output_type": "stream",
     "text": [
      "Orange\n",
      "Orange\n",
      "Orange\n"
     ]
    }
   ],
   "source": [
    "x = y = z = \"Orange\"\n",
    "print(x)\n",
    "print(y)\n",
    "print(z)"
   ]
  },
  {
   "cell_type": "code",
   "execution_count": 20,
   "metadata": {},
   "outputs": [
    {
     "name": "stdout",
     "output_type": "stream",
     "text": [
      "apple\n",
      "banana\n",
      "cherry\n"
     ]
    }
   ],
   "source": [
    "#Unpack a list:\n",
    "\n",
    "fruits = [\"apple\", \"banana\", \"cherry\"]\n",
    "x, y, z = fruits\n",
    "print(x)\n",
    "print(y)\n",
    "print(z)"
   ]
  },
  {
   "cell_type": "code",
   "execution_count": 21,
   "metadata": {},
   "outputs": [
    {
     "name": "stdout",
     "output_type": "stream",
     "text": [
      "Python is awesome\n"
     ]
    }
   ],
   "source": [
    "x = \"awesome\"\n",
    "print(\"Python is \" + x)"
   ]
  },
  {
   "cell_type": "code",
   "execution_count": 22,
   "metadata": {},
   "outputs": [
    {
     "name": "stdout",
     "output_type": "stream",
     "text": [
      "Python is awesome\n"
     ]
    }
   ],
   "source": [
    "x = \"Python is \"\n",
    "y = \"awesome\"\n",
    "z =  x + y\n",
    "print(z)"
   ]
  },
  {
   "cell_type": "code",
   "execution_count": 23,
   "metadata": {},
   "outputs": [
    {
     "ename": "TypeError",
     "evalue": "unsupported operand type(s) for +: 'int' and 'str'",
     "output_type": "error",
     "traceback": [
      "\u001b[1;31m---------------------------------------------------------------------------\u001b[0m",
      "\u001b[1;31mTypeError\u001b[0m                                 Traceback (most recent call last)",
      "\u001b[1;32m<ipython-input-23-5dac594ad95c>\u001b[0m in \u001b[0;36m<module>\u001b[1;34m\u001b[0m\n\u001b[0;32m      3\u001b[0m \u001b[0mx\u001b[0m \u001b[1;33m=\u001b[0m \u001b[1;36m5\u001b[0m\u001b[1;33m\u001b[0m\u001b[1;33m\u001b[0m\u001b[0m\n\u001b[0;32m      4\u001b[0m \u001b[0my\u001b[0m \u001b[1;33m=\u001b[0m \u001b[1;34m\"John\"\u001b[0m\u001b[1;33m\u001b[0m\u001b[1;33m\u001b[0m\u001b[0m\n\u001b[1;32m----> 5\u001b[1;33m \u001b[0mprint\u001b[0m\u001b[1;33m(\u001b[0m\u001b[0mx\u001b[0m \u001b[1;33m+\u001b[0m \u001b[0my\u001b[0m\u001b[1;33m)\u001b[0m\u001b[1;33m\u001b[0m\u001b[1;33m\u001b[0m\u001b[0m\n\u001b[0m",
      "\u001b[1;31mTypeError\u001b[0m: unsupported operand type(s) for +: 'int' and 'str'"
     ]
    }
   ],
   "source": [
    "#If you try to combine a string and a number, Python will give you an error:\n",
    "\n",
    "x = 5\n",
    "y = \"John\"\n",
    "print(x + y)"
   ]
  },
  {
   "cell_type": "code",
   "execution_count": null,
   "metadata": {},
   "outputs": [],
   "source": [
    "x = \"awesome\"\n",
    "\n",
    "def myfunc():\n",
    "  print(\"Python is \" + x)\n",
    "\n",
    "myfunc()"
   ]
  },
  {
   "cell_type": "code",
   "execution_count": 26,
   "metadata": {},
   "outputs": [
    {
     "name": "stdout",
     "output_type": "stream",
     "text": [
      "Python is amazing \n",
      "Python is awesome\n"
     ]
    }
   ],
   "source": [
    "x = \"awesome\"\n",
    "\n",
    "def myfunc():\n",
    "  x =\"amazing \" \n",
    "  print(\"Python is \" + x)\n",
    "\n",
    "myfunc()\n",
    "print(\"Python is \" + x)"
   ]
  },
  {
   "cell_type": "code",
   "execution_count": 27,
   "metadata": {},
   "outputs": [
    {
     "name": "stdout",
     "output_type": "stream",
     "text": [
      "Python is fantastic\n"
     ]
    }
   ],
   "source": [
    "x=\"awesome\"\n",
    "\n",
    "def myfunc():\n",
    "  global x\n",
    "  x = \"fantastic\"\n",
    "\n",
    "myfunc()\n",
    "\n",
    "print(\"Python is \" + x)"
   ]
  },
  {
   "cell_type": "code",
   "execution_count": 38,
   "metadata": {},
   "outputs": [
    {
     "name": "stdout",
     "output_type": "stream",
     "text": [
      "<class 'list'>\n",
      "<class 'tuple'>\n",
      "range(0, 6)\n",
      "<class 'range'>\n",
      "<class 'dict'>\n",
      "<class 'set'>\n",
      "<class 'frozenset'>\n",
      "<class 'bool'>\n",
      "<class 'bytes'>\n",
      "<class 'bytearray'>\n",
      "<class 'memoryview'>\n"
     ]
    }
   ],
   "source": [
    "#Data types\n",
    "x = [\"apple\", \"banana\", \"cherry\"]\n",
    "print(type(x))\n",
    "\n",
    "x = (\"apple\", \"banana\", \"cherry\")\n",
    "print(type(x))\n",
    "\n",
    "x = range(6)\n",
    "print(x)\n",
    "print(type(x))\n",
    "\n",
    "x = {\"name\" : \"John\", \"age\" : 36}\n",
    "print(type(x))\n",
    "\n",
    "x = {\"apple\", \"banana\", \"cherry\"}\n",
    "print(type(x))\n",
    "\n",
    "x = frozenset({\"apple\", \"banana\", \"cherry\"})\n",
    "print(type(x))\n",
    "\n",
    "x = True\n",
    "print(type(x))\n",
    "\n",
    "x = b\"Hello\"\n",
    "print(type(x))\n",
    "\n",
    "x = bytearray(5)\n",
    "print(type(x))\n",
    "\n",
    "x = memoryview(bytes(5))\n",
    "print(type(x))"
   ]
  },
  {
   "cell_type": "code",
   "execution_count": 39,
   "metadata": {},
   "outputs": [
    {
     "name": "stdout",
     "output_type": "stream",
     "text": [
      "1.0\n",
      "2\n",
      "(1+0j)\n",
      "<class 'float'>\n",
      "<class 'int'>\n",
      "<class 'complex'>\n"
     ]
    }
   ],
   "source": [
    "x = 1    # int\n",
    "y = 2.8  # float\n",
    "z = 1j   # complex\n",
    "\n",
    "#convert from int to float:\n",
    "a = float(x)\n",
    "\n",
    "#convert from float to int:\n",
    "b = int(y)\n",
    "\n",
    "#convert from int to complex:\n",
    "c = complex(x)\n",
    "\n",
    "print(a)\n",
    "print(b)\n",
    "print(c)\n",
    "\n",
    "print(type(a))\n",
    "print(type(b))\n",
    "print(type(c))\n",
    "#Note: You cannot convert complex numbers into another number type."
   ]
  },
  {
   "cell_type": "code",
   "execution_count": 40,
   "metadata": {},
   "outputs": [
    {
     "name": "stdout",
     "output_type": "stream",
     "text": [
      "8\n"
     ]
    }
   ],
   "source": [
    "#Python does not have a random() function to make a random number, but Python has a built-in module called random that can be used to make random numbers:\n",
    "\n",
    "#Example\n",
    "#Import the random module, and display a random number between 1 and 9:\n",
    "\n",
    "import random\n",
    "\n",
    "print(random.randrange(1, 10))"
   ]
  },
  {
   "cell_type": "code",
   "execution_count": 41,
   "metadata": {},
   "outputs": [
    {
     "name": "stdout",
     "output_type": "stream",
     "text": [
      "Hello\n",
      "Hello\n"
     ]
    }
   ],
   "source": [
    "#Strings\n",
    "#Strings in python are surrounded by either single quotation marks, or double quotation marks.\n",
    "\n",
    "#'hello' is the same as \"hello\".\n",
    "\n",
    "#You can display a string literal with the print() function:\n",
    "\n",
    "#Example\n",
    "print(\"Hello\")\n",
    "print('Hello')"
   ]
  },
  {
   "cell_type": "code",
   "execution_count": 42,
   "metadata": {},
   "outputs": [
    {
     "name": "stdout",
     "output_type": "stream",
     "text": [
      "this is a multiline \n",
      "string. Check how python handles this\n"
     ]
    }
   ],
   "source": [
    "a=\"\"\"this is a multiline \n",
    "string. Check how python handles this\"\"\"\n",
    "print(a)"
   ]
  },
  {
   "cell_type": "code",
   "execution_count": 1,
   "metadata": {},
   "outputs": [
    {
     "name": "stdout",
     "output_type": "stream",
     "text": [
      "e\n"
     ]
    }
   ],
   "source": [
    "#Strings are Arrays\n",
    "a = \"Hello, World!\"\n",
    "print(a[1])"
   ]
  },
  {
   "cell_type": "code",
   "execution_count": 4,
   "metadata": {},
   "outputs": [
    {
     "name": "stdout",
     "output_type": "stream",
     "text": [
      "b\n",
      "a\n",
      "n\n",
      "a\n",
      "n\n",
      "a\n",
      "a\n",
      "p\n",
      "p\n",
      "l\n",
      "e\n"
     ]
    }
   ],
   "source": [
    "#Looping Through a String\n",
    "for x in \"banana\":\n",
    "  print(x)\n",
    "\n",
    "for x in 'apple':\n",
    "  print(x)"
   ]
  },
  {
   "cell_type": "code",
   "execution_count": 5,
   "metadata": {},
   "outputs": [
    {
     "name": "stdout",
     "output_type": "stream",
     "text": [
      "13\n"
     ]
    }
   ],
   "source": [
    "#String Length\n",
    "a = \"Hello, World!\"\n",
    "print(len(a))"
   ]
  },
  {
   "cell_type": "code",
   "execution_count": 6,
   "metadata": {},
   "outputs": [
    {
     "name": "stdout",
     "output_type": "stream",
     "text": [
      "True\n"
     ]
    }
   ],
   "source": [
    "#Check String\n",
    "#To check if a certain phrase or character is present in a string, we can use the keyword in.\n",
    "\n",
    "txt = \"The best things in life are free!\"\n",
    "print(\"free\" in txt)"
   ]
  },
  {
   "cell_type": "code",
   "execution_count": 8,
   "metadata": {},
   "outputs": [
    {
     "name": "stdout",
     "output_type": "stream",
     "text": [
      " empowered!\n"
     ]
    }
   ],
   "source": [
    "#Slice To the End\n",
    "b = \"Be empowered!\"\n",
    "print(b[2:])"
   ]
  },
  {
   "cell_type": "code",
   "execution_count": 10,
   "metadata": {},
   "outputs": [
    {
     "name": "stdout",
     "output_type": "stream",
     "text": [
      "o\n",
      "d\n",
      "orl\n"
     ]
    }
   ],
   "source": [
    "#Negative Indexing\n",
    "b = \"Hello, World!\"\n",
    "print(b[-5])\n",
    "print(b[-2])\n",
    "print(b[-5:-2])"
   ]
  },
  {
   "cell_type": "code",
   "execution_count": 13,
   "metadata": {},
   "outputs": [
    {
     "name": "stdout",
     "output_type": "stream",
     "text": [
      "HELLO, WORLD!\n",
      "hello, world!\n"
     ]
    }
   ],
   "source": [
    "#Upper Case\n",
    "a = \"Hello, World!\"\n",
    "print(a.upper())\n",
    "print(a.lower())"
   ]
  },
  {
   "cell_type": "code",
   "execution_count": 16,
   "metadata": {},
   "outputs": [
    {
     "name": "stdout",
     "output_type": "stream",
     "text": [
      "Hello, World!\n"
     ]
    }
   ],
   "source": [
    "#Remove Whitespace\n",
    "a = \"             Hello, World!           \"\n",
    "print(a.strip())"
   ]
  },
  {
   "cell_type": "code",
   "execution_count": 17,
   "metadata": {},
   "outputs": [
    {
     "name": "stdout",
     "output_type": "stream",
     "text": [
      "Tello, World!\n"
     ]
    }
   ],
   "source": [
    "#Replace String\n",
    "a = \"Hello, World!\"\n",
    "print(a.replace('H', 'T'))"
   ]
  },
  {
   "cell_type": "code",
   "execution_count": 20,
   "metadata": {},
   "outputs": [
    {
     "name": "stdout",
     "output_type": "stream",
     "text": [
      "['Hello,', 'World!']\n",
      "['Hello', ' World!']\n",
      "['He', '', 'o, Wor', 'd!']\n"
     ]
    }
   ],
   "source": [
    "#Split String\n",
    "a = \"Hello, World!\"\n",
    "print(a.split())\n",
    "print(a.split(\",\"))\n",
    "print(a.split(\"l\"))\n"
   ]
  },
  {
   "cell_type": "code",
   "execution_count": 22,
   "metadata": {},
   "outputs": [
    {
     "name": "stdout",
     "output_type": "stream",
     "text": [
      "HelloWorld\n",
      "Hello World\n"
     ]
    }
   ],
   "source": [
    "#String Concatenation\n",
    "a = \"Hello\"\n",
    "b = \"World\"\n",
    "d = \" \"\n",
    "c = a + b\n",
    "print(c)\n",
    "c = a +d+ b\n",
    "print(c)"
   ]
  },
  {
   "cell_type": "code",
   "execution_count": 25,
   "metadata": {},
   "outputs": [
    {
     "ename": "TypeError",
     "evalue": "can only concatenate str (not \"int\") to str",
     "output_type": "error",
     "traceback": [
      "\u001b[1;31m---------------------------------------------------------------------------\u001b[0m",
      "\u001b[1;31mTypeError\u001b[0m                                 Traceback (most recent call last)",
      "\u001b[1;32m<ipython-input-25-06db62baccf2>\u001b[0m in \u001b[0;36m<module>\u001b[1;34m\u001b[0m\n\u001b[0;32m      1\u001b[0m \u001b[1;31m#String Format\u001b[0m\u001b[1;33m\u001b[0m\u001b[1;33m\u001b[0m\u001b[1;33m\u001b[0m\u001b[0m\n\u001b[0;32m      2\u001b[0m \u001b[0mage\u001b[0m \u001b[1;33m=\u001b[0m \u001b[1;36m6\u001b[0m\u001b[1;33m\u001b[0m\u001b[1;33m\u001b[0m\u001b[0m\n\u001b[1;32m----> 3\u001b[1;33m \u001b[0mtxt\u001b[0m \u001b[1;33m=\u001b[0m \u001b[1;34m\"My name is Miraya, I am \"\u001b[0m \u001b[1;33m+\u001b[0m \u001b[0mage\u001b[0m\u001b[1;33m\u001b[0m\u001b[1;33m\u001b[0m\u001b[0m\n\u001b[0m\u001b[0;32m      4\u001b[0m \u001b[0mprint\u001b[0m\u001b[1;33m(\u001b[0m\u001b[0mtxt\u001b[0m\u001b[1;33m)\u001b[0m\u001b[1;33m\u001b[0m\u001b[1;33m\u001b[0m\u001b[0m\n\u001b[0;32m      5\u001b[0m \u001b[1;33m\u001b[0m\u001b[0m\n",
      "\u001b[1;31mTypeError\u001b[0m: can only concatenate str (not \"int\") to str"
     ]
    }
   ],
   "source": [
    "#String Format\n",
    "age = 6\n",
    "txt = \"My name is Miraya, I am \" + age\n",
    "print(txt)\n",
    "\n"
   ]
  },
  {
   "cell_type": "code",
   "execution_count": 29,
   "metadata": {},
   "outputs": [
    {
     "name": "stdout",
     "output_type": "stream",
     "text": [
      "My name is Miraya, I am {}\n",
      "My name is Miraya, I am 6\n",
      "Please give me 2 apples and 3 bananas\n"
     ]
    }
   ],
   "source": [
    "#String Format\n",
    "age = 6\n",
    "txt = \"My name is Miraya, I am {}\"\n",
    "print(txt)\n",
    "\n",
    "print(txt.format(age))\n",
    "txt=\"Please give me {} apples and {} bananas\"\n",
    "\n",
    "print(txt.format(2,3))"
   ]
  },
  {
   "cell_type": "code",
   "execution_count": 30,
   "metadata": {},
   "outputs": [
    {
     "name": "stdout",
     "output_type": "stream",
     "text": [
      "I want to pay 49.95 dollars for 3 pieces of item 567.\n"
     ]
    }
   ],
   "source": [
    "quantity = 3\n",
    "itemno = 567\n",
    "price = 49.95\n",
    "myorder = \"I want to pay {2} dollars for {0} pieces of item {1}.\"\n",
    "print(myorder.format(quantity, itemno, price))"
   ]
  },
  {
   "cell_type": "code",
   "execution_count": 31,
   "metadata": {},
   "outputs": [
    {
     "ename": "SyntaxError",
     "evalue": "invalid syntax (<ipython-input-31-b2d5ef9099ac>, line 2)",
     "output_type": "error",
     "traceback": [
      "\u001b[1;36m  File \u001b[1;32m\"<ipython-input-31-b2d5ef9099ac>\"\u001b[1;36m, line \u001b[1;32m2\u001b[0m\n\u001b[1;33m    txt = \"We are the so-called \"Vikings\" from the north.\"\u001b[0m\n\u001b[1;37m                                       ^\u001b[0m\n\u001b[1;31mSyntaxError\u001b[0m\u001b[1;31m:\u001b[0m invalid syntax\n"
     ]
    }
   ],
   "source": [
    "#Escape Character\n",
    "txt = \"We are the so-called \"Vikings\" from the north.\"\n",
    "print(txt)"
   ]
  },
  {
   "cell_type": "code",
   "execution_count": 32,
   "metadata": {},
   "outputs": [
    {
     "name": "stdout",
     "output_type": "stream",
     "text": [
      "We are the so-called \"Vikings\" from the north.\n"
     ]
    }
   ],
   "source": [
    "txt = \"We are the so-called \\\"Vikings\\\" from the north.\"\n",
    "print(txt)"
   ]
  },
  {
   "cell_type": "code",
   "execution_count": 44,
   "metadata": {},
   "outputs": [
    {
     "name": "stdout",
     "output_type": "stream",
     "text": [
      "My name is miraya\n",
      "2\n",
      "3\n",
      "('my ', 'name', ' is Miraya')\n"
     ]
    }
   ],
   "source": [
    "#String functions\n",
    "a='my name is Miraya'\n",
    "print(a.capitalize())\n",
    "print(a.count('m'))\n",
    "print(a.find('n'))\n",
    "print(a.partition('name'))"
   ]
  },
  {
   "cell_type": "code",
   "execution_count": 46,
   "metadata": {},
   "outputs": [
    {
     "name": "stdout",
     "output_type": "stream",
     "text": [
      "True\n",
      "False\n",
      "False\n",
      "True\n",
      "True\n"
     ]
    }
   ],
   "source": [
    "#Boolean Values\n",
    "print(10 > 9)\n",
    "print(10 == 9)\n",
    "print(10 < 9)\n",
    "print(bool(\"Hello\"))\n",
    "print(bool(15))"
   ]
  },
  {
   "cell_type": "code",
   "execution_count": 47,
   "metadata": {
    "scrolled": true
   },
   "outputs": [
    {
     "data": {
      "text/plain": [
       "True"
      ]
     },
     "execution_count": 47,
     "metadata": {},
     "output_type": "execute_result"
    }
   ],
   "source": [
    "#Most Values are True\n",
    "#Almost any value is evaluated to True if it has some sort of content.\n",
    "#Any string is True, except empty strings.\n",
    "#Any number is True, except 0.\n",
    "#Any list, tuple, set, and dictionary are True, except empty ones.\n",
    "#The following will return True:\n",
    "\n",
    "bool(\"abc\")\n",
    "bool(123)\n",
    "bool([\"apple\", \"cherry\", \"banana\"])"
   ]
  },
  {
   "cell_type": "code",
   "execution_count": 48,
   "metadata": {},
   "outputs": [
    {
     "data": {
      "text/plain": [
       "False"
      ]
     },
     "execution_count": 48,
     "metadata": {},
     "output_type": "execute_result"
    }
   ],
   "source": [
    "#Some Values are False\n",
    "#In fact, there are not many values that evaluate to False, except empty values, \n",
    "#such as (), [], {}, \"\", the number 0, and the value None. And of course the value False evaluates to False.\n",
    "\n",
    "\n",
    "bool(False)\n",
    "bool(None)\n",
    "bool(0)\n",
    "bool(\"\")\n",
    "bool(())\n",
    "bool([])\n",
    "bool({})"
   ]
  },
  {
   "cell_type": "code",
   "execution_count": 50,
   "metadata": {},
   "outputs": [
    {
     "name": "stdout",
     "output_type": "stream",
     "text": [
      "True\n"
     ]
    }
   ],
   "source": [
    "def myFunction():\n",
    "    return True\n",
    "\n",
    "if myFunction():\n",
    "    print('True')\n",
    "else:\n",
    "    print('False')"
   ]
  },
  {
   "cell_type": "code",
   "execution_count": 56,
   "metadata": {},
   "outputs": [
    {
     "name": "stdout",
     "output_type": "stream",
     "text": [
      "9\n",
      "False\n",
      "True\n",
      "False\n",
      "False\n"
     ]
    }
   ],
   "source": [
    "#Python Operators\n",
    "print(5+4)\n",
    "print(6==7)\n",
    "print(5>4)\n",
    "print(5>4 and 8>9)\n",
    "print(8 is 9)"
   ]
  },
  {
   "cell_type": "code",
   "execution_count": 63,
   "metadata": {},
   "outputs": [],
   "source": [
    "#----------------Python Collections (Arrays)------------------\n",
    "#There are four collection data types in the Python programming language:\n",
    "\n",
    "#1)List is a collection which is ordered and changeable. Allows duplicate members.\n",
    "#2)Tuple is a collection which is ordered and unchangeable. Allows duplicate members.\n",
    "#3)Set is a collection which is unordered and unindexed. No duplicate members.\n",
    "#4)Dictionary is a collection which is ordered* and changeable. No duplicate members.\n"
   ]
  },
  {
   "cell_type": "code",
   "execution_count": 73,
   "metadata": {},
   "outputs": [
    {
     "name": "stdout",
     "output_type": "stream",
     "text": [
      "['a', 'b', 'c', 'a', 'd']\n",
      "5\n",
      "34\n",
      "male\n",
      "[34, True]\n",
      "['abc', 34, True]\n",
      "[34]\n",
      "[34, True]\n",
      "Item exists\n"
     ]
    }
   ],
   "source": [
    "\n",
    "#Python Lists\n",
    "#Lists are used to store multiple items in a single variable.\n",
    "#Lists are one of 4 built-in data types in Python used to store collections of data, the other 3 are Tuple, Set, and Dictionary, all with different qualities and usage.\n",
    "#Lists are created using square brackets:\n",
    "#List items are ordered, changeable, and allow duplicate values.\n",
    "#List items are indexed, the first item has index [0], the second item has index [1] etc.\n",
    "#a)If you add new items to a list, the new items will be placed at the end of the list.\n",
    "#b)The list is changeable, meaning that we can change, add, and remove items in a list after it has been created.\n",
    "#c)Since lists are indexed, lists can have items with the same value:\n",
    "\n",
    "myList=[\"a\",\"b\",\"c\",\"a\",\"d\"]\n",
    "print(myList)\n",
    "print(len(myList))\n",
    "\n",
    "#List items can be of any data type:\n",
    "list1 = [\"apple\", \"banana\", \"cherry\"]\n",
    "list2 = [1, 5, 7, 9, 3]\n",
    "list3 = [True, False, False]\n",
    "\n",
    "#A list can contain different data types:\n",
    "list1 = [\"abc\", 34, True, 40, \"male\"]\n",
    "\n",
    "#Access list items\n",
    "print(list1[1])\n",
    "print(list1[-1])\n",
    "print(list1[1:3])\n",
    "print(list1[:3])\n",
    "print(list1[-4:-3])\n",
    "print(list1[-4:-2])\n",
    "\n",
    "#check if item exists\n",
    "if \"abc\" in list1:\n",
    "    print(\"Item exists\")"
   ]
  },
  {
   "cell_type": "code",
   "execution_count": 90,
   "metadata": {},
   "outputs": [
    {
     "name": "stdout",
     "output_type": "stream",
     "text": [
      "['abc', 55, True, 40, 'male']\n",
      "['abc', 55, False, 60, 'male']\n",
      "['abc', 55, False, 60, 'Female', 'male']\n",
      "['abc', 33, 55, False, 60, 'Female', 'male']\n",
      "['abc', 33, 55, False, 60, 'Female', 'male']\n",
      "['abc', 33, 55, False, 60, 'Female', 'male', 'dog']\n",
      "['apple', 'banana', 'cherry', '1', '2', '3']\n",
      "['apple', 'banana', 'cherry', 'kiwi', 'orange']\n",
      "['banana', 'cherry']\n",
      "['cherry']\n",
      "['cherry', 'papaya']\n",
      "['papaya']\n"
     ]
    },
    {
     "ename": "NameError",
     "evalue": "name 'thislist' is not defined",
     "output_type": "error",
     "traceback": [
      "\u001b[1;31m---------------------------------------------------------------------------\u001b[0m",
      "\u001b[1;31mNameError\u001b[0m                                 Traceback (most recent call last)",
      "\u001b[1;32m<ipython-input-90-2c305b8289a5>\u001b[0m in \u001b[0;36m<module>\u001b[1;34m\u001b[0m\n\u001b[0;32m     48\u001b[0m \u001b[1;33m\u001b[0m\u001b[0m\n\u001b[0;32m     49\u001b[0m \u001b[1;32mdel\u001b[0m \u001b[0mthislist\u001b[0m\u001b[1;33m\u001b[0m\u001b[1;33m\u001b[0m\u001b[0m\n\u001b[1;32m---> 50\u001b[1;33m \u001b[0mprint\u001b[0m\u001b[1;33m(\u001b[0m\u001b[0mthislist\u001b[0m\u001b[1;33m)\u001b[0m\u001b[1;33m\u001b[0m\u001b[1;33m\u001b[0m\u001b[0m\n\u001b[0m",
      "\u001b[1;31mNameError\u001b[0m: name 'thislist' is not defined"
     ]
    }
   ],
   "source": [
    "#Change List Items\n",
    "list1 = [\"abc\", 34, True, 40, \"male\"]\n",
    "list1[1]=55\n",
    "print(list1)\n",
    "list1[2:4]=[False,60]\n",
    "print(list1)\n",
    "list1[2:4]=[False,60,\"Female\"]\n",
    "print(list1)\n",
    "\n",
    "\n",
    "#To insert a new list item, without replacing any of the existing values, we can use the insert() method.\n",
    "list1.insert(1,33)\n",
    "print(list1)\n",
    "\n",
    "#Append Items\n",
    "print(list1)\n",
    "list1.append('dog')\n",
    "print(list1)\n",
    "\n",
    "#Extend list\n",
    "thislist = [\"apple\", \"banana\", \"cherry\"]\n",
    "myList = [\"1\", \"2\", \"3\"]\n",
    "thislist.extend(myList)\n",
    "print(thislist)\n",
    "\n",
    "#Add Any Iterable\n",
    "#The extend() method does not have to append lists, you can add any iterable object (tuples, sets, dictionaries etc.).\n",
    "\n",
    "thislist = [\"apple\", \"banana\", \"cherry\"]\n",
    "thistuple = (\"kiwi\", \"orange\")\n",
    "thislist.extend(thistuple)\n",
    "print(thislist)\n",
    "\n",
    "#Python - Remove List Items\n",
    "thislist = [\"apple\", \"banana\", \"cherry\"]\n",
    "thislist.remove(\"apple\")\n",
    "print(thislist)\n",
    "\n",
    "thislist.pop(0)\n",
    "print(thislist)\n",
    "#If you do not specify the index, the pop() method removes the last item.\n",
    "\n",
    "thislist.insert(1,\"papaya\")\n",
    "print(thislist)\n",
    "\n",
    "del thislist[0]\n",
    "print(thislist)\n",
    "\n",
    "#The del keyword can also delete the list completely.\n",
    "del thislist\n",
    "print(thislist)\n",
    "\n",
    "#The clear() method empties the list."
   ]
  },
  {
   "cell_type": "code",
   "execution_count": 99,
   "metadata": {},
   "outputs": [
    {
     "name": "stdout",
     "output_type": "stream",
     "text": [
      "-----------using for loop---------------\n",
      "apple\n",
      "banana\n",
      "cherry\n",
      "kiwi\n",
      "orange\n",
      "-----------using index and len---------------\n",
      "apple\n",
      "banana\n",
      "cherry\n",
      "kiwi\n",
      "orange\n",
      "-----------using while loop---------------\n",
      "apple\n",
      "banana\n",
      "cherry\n",
      "kiwi\n",
      "orange\n",
      "-----------short hand for loop---------------\n",
      "apple\n",
      "banana\n",
      "cherry\n",
      "kiwi\n",
      "orange\n"
     ]
    },
    {
     "data": {
      "text/plain": [
       "[None, None, None, None, None]"
      ]
     },
     "execution_count": 99,
     "metadata": {},
     "output_type": "execute_result"
    }
   ],
   "source": [
    "#Looping through the list\n",
    "myList=['apple', 'banana', 'cherry', 'kiwi', 'orange']\n",
    "print(\"-----------using for loop---------------\")\n",
    "for i in myList:\n",
    "    print(i)\n",
    "\n",
    "print(\"-----------using index and len---------------\")\n",
    "for i in range(len(myList)):\n",
    "    print(myList[i])\n",
    "    \n",
    "print(\"-----------using while loop---------------\") \n",
    "i=0\n",
    "while i < len(myList):\n",
    "    print(myList[i])\n",
    "    i=i+1\n",
    "    \n",
    "print(\"-----------short hand for loop---------------\")     \n",
    "[print (x) for x in myList]  "
   ]
  },
  {
   "cell_type": "code",
   "execution_count": 114,
   "metadata": {},
   "outputs": [
    {
     "name": "stdout",
     "output_type": "stream",
     "text": [
      "With for loop\n",
      "['apple', 'banana', 'orange']\n",
      "With List comprehension\n",
      "['apple', 'banana', 'orange']\n",
      "[0, 1, 2, 3, 4]\n"
     ]
    }
   ],
   "source": [
    "#List Comprehension\n",
    "#List comprehension offers a shorter syntax when you want to create a new list based on the values of an existing list.\n",
    "#newlist = [expression for item in iterable if condition == True]\n",
    "\n",
    "myList=['apple', 'banana', 'cherry', 'kiwi', 'orange']\n",
    "newList=[]\n",
    "print(\"With for loop\")\n",
    "\n",
    "for x in myList:\n",
    "    if \"a\" in x:\n",
    "        newList.append(x)\n",
    "        \n",
    "print(newList)   \n",
    "\n",
    "print(\"With List comprehension\")\n",
    "myList=['apple', 'banana', 'cherry', 'kiwi', 'orange']\n",
    "newList1=[x for x in myList if \"a\" in x]\n",
    "print(newList1)  \n",
    "\n",
    "l1=[]\n",
    "l1 =  [x for x in range(10) if x < 5]\n",
    "print(l1)\n",
    "\n",
    "\n"
   ]
  },
  {
   "cell_type": "code",
   "execution_count": 116,
   "metadata": {},
   "outputs": [
    {
     "name": "stdout",
     "output_type": "stream",
     "text": [
      "[0, 2, 4, 5, 11, 13]\n",
      "[13, 11, 5, 4, 2, 0]\n"
     ]
    }
   ],
   "source": [
    "#sort list\n",
    "l1=[5,11,2,4,0,13]\n",
    "l1.sort()\n",
    "print(l1)\n",
    "\n",
    "#Sort Descending\n",
    "l1.sort(reverse=True)\n",
    "print(l1)"
   ]
  },
  {
   "cell_type": "code",
   "execution_count": 119,
   "metadata": {},
   "outputs": [
    {
     "name": "stdout",
     "output_type": "stream",
     "text": [
      "['Kiwi', 'Orange', 'banana', 'cherry']\n",
      "['banana', 'cherry', 'Kiwi', 'Orange']\n"
     ]
    }
   ],
   "source": [
    "thislist = [\"banana\", \"Orange\", \"Kiwi\", \"cherry\"]\n",
    "thislist.sort()\n",
    "print(thislist)\n",
    "\n",
    "#Perform a case-insensitive sort of the list:\n",
    "thislist.sort(key = str.lower)\n",
    "print(thislist)"
   ]
  },
  {
   "cell_type": "code",
   "execution_count": 122,
   "metadata": {},
   "outputs": [
    {
     "name": "stdout",
     "output_type": "stream",
     "text": [
      "['banana', 'Orange', 'Kiwi', 'cherry']\n",
      "['banana', 'Orange', 'Kiwi', 'cherry']\n"
     ]
    }
   ],
   "source": [
    "#copy lists\n",
    "thislist = [\"banana\", \"Orange\", \"Kiwi\", \"cherry\"]\n",
    "l1=thislist.copy()\n",
    "print(l1)\n",
    "\n",
    "l2=list(thislist)\n",
    "print(l2)"
   ]
  },
  {
   "cell_type": "code",
   "execution_count": 127,
   "metadata": {},
   "outputs": [
    {
     "name": "stdout",
     "output_type": "stream",
     "text": [
      "['a', 'b', 'c', 1, 2, 3]\n",
      "['a', 'b', 'c', 1, 2, 3, 'x', 'y', 'z']\n"
     ]
    }
   ],
   "source": [
    "#join lists\n",
    "#Method 1\n",
    "\n",
    "list1 = [\"a\", \"b\" , \"c\"]\n",
    "list2 = [1, 2, 3]\n",
    "list3 = [\"x\",\"y\",\"z\"]\n",
    "\n",
    "for x in list2:\n",
    "    list1.append(x)\n",
    "    \n",
    "print(list1)   \n",
    "\n",
    "#Method2\n",
    "list1.extend(list3)\n",
    "print(list1)"
   ]
  },
  {
   "cell_type": "code",
   "execution_count": 138,
   "metadata": {},
   "outputs": [
    {
     "name": "stdout",
     "output_type": "stream",
     "text": [
      "('apple', 'banana', 'cherry')\n",
      "3\n",
      "<class 'tuple'>\n",
      "<class 'str'>\n",
      "('apple', 'banana', 'cherry')\n",
      "banana\n",
      "cherry\n",
      "('cherry', 'orange', 'kiwi')\n",
      "('apple', 'banana', 'cherry', 'orange')\n",
      "('cherry', 'orange', 'kiwi', 'melon', 'mango')\n",
      "('orange', 'kiwi', 'melon')\n",
      "Yes, 'apple' is in the fruits tuple\n"
     ]
    }
   ],
   "source": [
    "#Python Tuples\n",
    "#A tuple is a collection which is ordered and unchangeable, and allow duplicate values.\n",
    "thistuple = (\"apple\", \"banana\", \"cherry\")\n",
    "print(thistuple)\n",
    "print(len(thistuple))\n",
    "\n",
    "#To create a tuple with only one item, you have to add a comma after the item, otherwise Python will not recognize it as a tuple.\n",
    "thistuple = (\"apple\",)\n",
    "print(type(thistuple))\n",
    "\n",
    "#NOT a tuple\n",
    "thistuple = (\"apple\")\n",
    "print(type(thistuple))\n",
    "\n",
    "#A tuple can contain different data types\n",
    "tuple1 = (\"abc\", 34, True, 40, \"male\")\n",
    "\n",
    "#It is also possible to use the tuple() constructor to make a tuple.\n",
    "thistuple = tuple((\"apple\", \"banana\", \"cherry\")) # note the double round-brackets\n",
    "print(thistuple)\n",
    "\n",
    "#Access tuple\n",
    "thistuple = (\"apple\", \"banana\", \"cherry\")\n",
    "print(thistuple[1])\n",
    "\n",
    "thistuple = (\"apple\", \"banana\", \"cherry\")\n",
    "print(thistuple[-1])\n",
    "\n",
    "thistuple = (\"apple\", \"banana\", \"cherry\", \"orange\", \"kiwi\", \"melon\", \"mango\")\n",
    "print(thistuple[2:5])\n",
    "\n",
    "thistuple = (\"apple\", \"banana\", \"cherry\", \"orange\", \"kiwi\", \"melon\", \"mango\")\n",
    "print(thistuple[:4])\n",
    "\n",
    "thistuple = (\"apple\", \"banana\", \"cherry\", \"orange\", \"kiwi\", \"melon\", \"mango\")\n",
    "print(thistuple[2:])\n",
    "\n",
    "thistuple = (\"apple\", \"banana\", \"cherry\", \"orange\", \"kiwi\", \"melon\", \"mango\")\n",
    "print(thistuple[-4:-1])\n",
    "\n",
    "thistuple = (\"apple\", \"banana\", \"cherry\")\n",
    "if \"apple\" in thistuple:\n",
    "  print(\"Yes, 'apple' is in the fruits tuple\")"
   ]
  },
  {
   "cell_type": "code",
   "execution_count": 139,
   "metadata": {},
   "outputs": [
    {
     "ename": "TypeError",
     "evalue": "'tuple' object does not support item assignment",
     "output_type": "error",
     "traceback": [
      "\u001b[1;31m---------------------------------------------------------------------------\u001b[0m",
      "\u001b[1;31mTypeError\u001b[0m                                 Traceback (most recent call last)",
      "\u001b[1;32m<ipython-input-139-33558a00115a>\u001b[0m in \u001b[0;36m<module>\u001b[1;34m\u001b[0m\n\u001b[0;32m      1\u001b[0m \u001b[1;31m#Change Tuple Values\u001b[0m\u001b[1;33m\u001b[0m\u001b[1;33m\u001b[0m\u001b[1;33m\u001b[0m\u001b[0m\n\u001b[0;32m      2\u001b[0m \u001b[0mx\u001b[0m \u001b[1;33m=\u001b[0m \u001b[1;33m(\u001b[0m\u001b[1;34m\"apple\"\u001b[0m\u001b[1;33m,\u001b[0m \u001b[1;34m\"banana\"\u001b[0m\u001b[1;33m,\u001b[0m \u001b[1;34m\"cherry\"\u001b[0m\u001b[1;33m)\u001b[0m\u001b[1;33m\u001b[0m\u001b[1;33m\u001b[0m\u001b[0m\n\u001b[1;32m----> 3\u001b[1;33m \u001b[0mx\u001b[0m\u001b[1;33m[\u001b[0m\u001b[1;36m1\u001b[0m\u001b[1;33m]\u001b[0m\u001b[1;33m=\u001b[0m\u001b[1;34m'abc'\u001b[0m\u001b[1;33m\u001b[0m\u001b[1;33m\u001b[0m\u001b[0m\n\u001b[0m",
      "\u001b[1;31mTypeError\u001b[0m: 'tuple' object does not support item assignment"
     ]
    }
   ],
   "source": [
    "#Change Tuple Values\n",
    "x = (\"apple\", \"banana\", \"cherry\")\n",
    "x[1]='abc'\n",
    "\n",
    "#Tuples are unchangeable"
   ]
  },
  {
   "cell_type": "code",
   "execution_count": 146,
   "metadata": {},
   "outputs": [
    {
     "name": "stdout",
     "output_type": "stream",
     "text": [
      "['apple', 'kiwi', 'cherry']\n",
      "('apple', 'kiwi', 'cherry')\n",
      "('apple', 'kiwi', 'cherry')\n",
      "['apple', 'kiwi', 'cherry', 'melon']\n",
      "('apple', 'kiwi', 'cherry', 'melon')\n"
     ]
    },
    {
     "ename": "NameError",
     "evalue": "name 'x' is not defined",
     "output_type": "error",
     "traceback": [
      "\u001b[1;31m---------------------------------------------------------------------------\u001b[0m",
      "\u001b[1;31mNameError\u001b[0m                                 Traceback (most recent call last)",
      "\u001b[1;32m<ipython-input-146-48747139782d>\u001b[0m in \u001b[0;36m<module>\u001b[1;34m\u001b[0m\n\u001b[0;32m     19\u001b[0m \u001b[1;31m#you can delete the tuple completely:\u001b[0m\u001b[1;33m\u001b[0m\u001b[1;33m\u001b[0m\u001b[1;33m\u001b[0m\u001b[0m\n\u001b[0;32m     20\u001b[0m \u001b[1;32mdel\u001b[0m \u001b[0mx\u001b[0m\u001b[1;33m\u001b[0m\u001b[1;33m\u001b[0m\u001b[0m\n\u001b[1;32m---> 21\u001b[1;33m \u001b[0mprint\u001b[0m\u001b[1;33m(\u001b[0m\u001b[0mx\u001b[0m\u001b[1;33m)\u001b[0m\u001b[1;33m\u001b[0m\u001b[1;33m\u001b[0m\u001b[0m\n\u001b[0m",
      "\u001b[1;31mNameError\u001b[0m: name 'x' is not defined"
     ]
    }
   ],
   "source": [
    "#Convert tuple to a list to change its values\n",
    "x = (\"apple\", \"banana\", \"cherry\")\n",
    "y=list(x)\n",
    "y[1]='kiwi'\n",
    "print(y)\n",
    "x=tuple(y)\n",
    "print(x)\n",
    "\n",
    "#Just like the workaround for changing a tuple, you can convert it into a list, add your item(s), and convert it back into a tuple.\n",
    "print(x)\n",
    "y=list(x)\n",
    "y.append('melon')\n",
    "print(y)\n",
    "x=tuple(y)\n",
    "print(x)\n",
    "\n",
    "#Tuples are unchangeable, so you cannot remove items from it, but you can use the same workaround as we used for changing and adding tuple items:\n",
    "\n",
    "#you can delete the tuple completely:\n",
    "del x\n",
    "print(x)"
   ]
  },
  {
   "cell_type": "code",
   "execution_count": 147,
   "metadata": {},
   "outputs": [
    {
     "name": "stdout",
     "output_type": "stream",
     "text": [
      "apple\n",
      "banana\n",
      "cherry\n"
     ]
    }
   ],
   "source": [
    "#Unpacking tuples\n",
    "fruits = (\"apple\", \"banana\", \"cherry\")\n",
    "\n",
    "(green, yellow, red) = fruits\n",
    "\n",
    "print(green)\n",
    "print(yellow)\n",
    "print(red)"
   ]
  },
  {
   "cell_type": "code",
   "execution_count": 149,
   "metadata": {},
   "outputs": [
    {
     "name": "stdout",
     "output_type": "stream",
     "text": [
      "apple\n",
      "banana\n",
      "['cherry', 'strawberry', 'raspberry']\n"
     ]
    }
   ],
   "source": [
    "fruits = (\"apple\", \"banana\", \"cherry\", \"strawberry\", \"raspberry\")\n",
    "\n",
    "(green, yellow, *red) = fruits\n",
    "\n",
    "print(green)\n",
    "print(yellow)\n",
    "print(red) #note that this gets created as a list"
   ]
  },
  {
   "cell_type": "code",
   "execution_count": 150,
   "metadata": {},
   "outputs": [
    {
     "name": "stdout",
     "output_type": "stream",
     "text": [
      "apple\n",
      "['mango', 'papaya', 'pineapple']\n",
      "cherry\n"
     ]
    }
   ],
   "source": [
    "fruits = (\"apple\", \"mango\", \"papaya\", \"pineapple\", \"cherry\")\n",
    "\n",
    "(green, *tropic, red) = fruits\n",
    "\n",
    "print(green)\n",
    "print(tropic)\n",
    "print(red)\n",
    "\n",
    "#If the asterix is added to another variable name than the last, Python will assign values to the variable until the number of values left matches the number of variables left.\n"
   ]
  },
  {
   "cell_type": "code",
   "execution_count": 156,
   "metadata": {},
   "outputs": [
    {
     "name": "stdout",
     "output_type": "stream",
     "text": [
      "a\n",
      "b\n",
      "c\n",
      "a\n",
      "b\n",
      "c\n",
      "a\n",
      "b\n",
      "c\n"
     ]
    }
   ],
   "source": [
    "#Loop Through a Tuple\n",
    "myTuple=('a','b','c')\n",
    "for x in myTuple:\n",
    "    print(x)\n",
    "    \n",
    "#Using range \n",
    "for x in range(len(myTuple)):\n",
    "    print(myTuple[x])\n",
    "    \n",
    "#Using while loop\n",
    "i=0\n",
    "while i<len(myTuple):\n",
    "    print(myTuple[i])\n",
    "    i=i+1\n"
   ]
  },
  {
   "cell_type": "code",
   "execution_count": 158,
   "metadata": {},
   "outputs": [
    {
     "name": "stdout",
     "output_type": "stream",
     "text": [
      "('a', 'b', 'c', 1, 2, 3)\n",
      "('apple', 'banana', 'cherry', 'apple', 'banana', 'cherry')\n"
     ]
    }
   ],
   "source": [
    "#join tuple\n",
    "tuple1 = (\"a\", \"b\" , \"c\")\n",
    "tuple2 = (1, 2, 3)\n",
    "\n",
    "tuple3 = tuple1 + tuple2\n",
    "print(tuple3)\n",
    "\n",
    "#Multiply Tuples\n",
    "fruits = (\"apple\", \"banana\", \"cherry\")\n",
    "mytuple = fruits * 2\n",
    "\n",
    "print(mytuple)"
   ]
  },
  {
   "cell_type": "code",
   "execution_count": 162,
   "metadata": {},
   "outputs": [
    {
     "name": "stdout",
     "output_type": "stream",
     "text": [
      "2\n",
      "1\n"
     ]
    }
   ],
   "source": [
    "#tuple methods\n",
    "t1=('a','b','c','a')\n",
    "print(t1.count('a'))\n",
    "print(t1.index('b'))"
   ]
  },
  {
   "cell_type": "code",
   "execution_count": 167,
   "metadata": {},
   "outputs": [
    {
     "name": "stdout",
     "output_type": "stream",
     "text": [
      "{'banana', 'cherry', 'apple'}\n",
      "3\n",
      "{'c', 'a', 'b'}\n"
     ]
    }
   ],
   "source": [
    "#Set Items\n",
    "#Set items are unordered, unchangeable, and do not allow duplicate values.\n",
    "#****Once a set is created, you cannot change its items, but you can add new items.\n",
    "\n",
    "thisset = {\"apple\", \"banana\", \"cherry\", \"apple\"}\n",
    "\n",
    "print(thisset)\n",
    "print(len(thisset))\n",
    "\n",
    "#Set items can be of any data type:\n",
    "#A set can contain different data types:\n",
    "set1 = {\"abc\", 34, True, 40, \"male\"}\n",
    "\n",
    "#Using the set() constructor to make a set:\n",
    "thisset = set((\"a\", \"b\", \"c\")) # note the double round-brackets\n",
    "print(thisset)"
   ]
  },
  {
   "cell_type": "code",
   "execution_count": 169,
   "metadata": {},
   "outputs": [
    {
     "name": "stdout",
     "output_type": "stream",
     "text": [
      "banana\n",
      "cherry\n",
      "apple\n",
      "True\n"
     ]
    }
   ],
   "source": [
    "#Access Items\n",
    "#You cannot access items in a set by referring to an index or a key.\n",
    "thisset = {\"apple\", \"banana\", \"cherry\"}\n",
    "\n",
    "for x in thisset:\n",
    "  print(x)\n",
    "\n",
    "print(\"banana\" in thisset)"
   ]
  },
  {
   "cell_type": "code",
   "execution_count": 172,
   "metadata": {},
   "outputs": [
    {
     "name": "stdout",
     "output_type": "stream",
     "text": [
      "{'banana', 'cherry', 'apple', 'orange'}\n",
      "{'banana', 1, 'cherry', 'orange', 2, 3, 'apple'}\n",
      "{1, 'cherry', 2, 3, 'y', 'orange', 'apple', 'banana', 'z', 'x'}\n"
     ]
    }
   ],
   "source": [
    "#Add Items\n",
    "thisset = {\"apple\", \"banana\", \"cherry\"}\n",
    "\n",
    "thisset.add(\"orange\")\n",
    "\n",
    "print(thisset)\n",
    "\n",
    "#Add Sets\n",
    "#To add items from another set into the current set, use the update() method.\n",
    "\n",
    "set2={1,2,3}\n",
    "thisset.update(set2)\n",
    "print(thisset)\n",
    "\n",
    "#Add Any Iterable\n",
    "#The object in the update() method does not have be a set, it can be any iterable object (tuples, lists, dictionaries etc.).\n",
    "\n",
    "list1=['x','y','z']\n",
    "thisset.update(list1)\n",
    "print(thisset)"
   ]
  },
  {
   "cell_type": "code",
   "execution_count": 176,
   "metadata": {},
   "outputs": [
    {
     "ename": "KeyError",
     "evalue": "'cherry'",
     "output_type": "error",
     "traceback": [
      "\u001b[1;31m---------------------------------------------------------------------------\u001b[0m",
      "\u001b[1;31mKeyError\u001b[0m                                  Traceback (most recent call last)",
      "\u001b[1;32m<ipython-input-176-51c97b54236b>\u001b[0m in \u001b[0;36m<module>\u001b[1;34m\u001b[0m\n\u001b[0;32m      1\u001b[0m \u001b[1;31m#Remove Item\u001b[0m\u001b[1;33m\u001b[0m\u001b[1;33m\u001b[0m\u001b[1;33m\u001b[0m\u001b[0m\n\u001b[0;32m      2\u001b[0m \u001b[1;31m#To remove an item in a set, use the remove(), or the discard() method.\u001b[0m\u001b[1;33m\u001b[0m\u001b[1;33m\u001b[0m\u001b[1;33m\u001b[0m\u001b[0m\n\u001b[1;32m----> 3\u001b[1;33m \u001b[0mthisset\u001b[0m\u001b[1;33m.\u001b[0m\u001b[0mremove\u001b[0m\u001b[1;33m(\u001b[0m\u001b[1;34m'cherry'\u001b[0m\u001b[1;33m)\u001b[0m\u001b[1;33m\u001b[0m\u001b[1;33m\u001b[0m\u001b[0m\n\u001b[0m\u001b[0;32m      4\u001b[0m \u001b[0mprint\u001b[0m\u001b[1;33m(\u001b[0m\u001b[0mthisset\u001b[0m\u001b[1;33m)\u001b[0m\u001b[1;33m\u001b[0m\u001b[1;33m\u001b[0m\u001b[0m\n\u001b[0;32m      5\u001b[0m \u001b[1;33m\u001b[0m\u001b[0m\n",
      "\u001b[1;31mKeyError\u001b[0m: 'cherry'"
     ]
    }
   ],
   "source": [
    "#Remove Item\n",
    "#To remove an item in a set, use the remove(), or the discard() method.\n",
    "thisset.remove('cherry')\n",
    "print(thisset)\n",
    "\n",
    "#Note: If the item to remove does not exist, remove() will raise an error.\n"
   ]
  },
  {
   "cell_type": "code",
   "execution_count": 177,
   "metadata": {},
   "outputs": [
    {
     "name": "stdout",
     "output_type": "stream",
     "text": [
      "{1, 'cherry', 3, 2, 'apple', 'banana', 'y', 'z', 'x'}\n"
     ]
    }
   ],
   "source": [
    "thisset={1, 'cherry', 2, 3, 'y', 'orange', 'apple', 'banana', 'z', 'x'}\n",
    "thisset.discard('orange')\n",
    "print(thisset)\n",
    "#Note: If the item to remove does not exist, discard() will NOT raise an error.\n"
   ]
  },
  {
   "cell_type": "code",
   "execution_count": 178,
   "metadata": {},
   "outputs": [
    {
     "name": "stdout",
     "output_type": "stream",
     "text": [
      "banana\n",
      "{'cherry', 'apple'}\n"
     ]
    }
   ],
   "source": [
    "#Pop -You can also use the pop() method to remove an item, but this method will remove the last item\n",
    "thisset = {\"apple\", \"banana\", \"cherry\"}\n",
    "\n",
    "x = thisset.pop()\n",
    "\n",
    "print(x)\n",
    "\n",
    "print(thisset)\n",
    "#Note: Sets are unordered, so when using the pop() method, you do not know which item that gets removed."
   ]
  },
  {
   "cell_type": "code",
   "execution_count": 179,
   "metadata": {},
   "outputs": [
    {
     "name": "stdout",
     "output_type": "stream",
     "text": [
      "set()\n"
     ]
    }
   ],
   "source": [
    "#The clear() method empties the set:\n",
    "thisset = {\"apple\", \"banana\", \"cherry\"}\n",
    "thisset.clear()\n",
    "print(thisset)\n",
    "\n",
    "#The del keyword will delete the set completely:"
   ]
  },
  {
   "cell_type": "code",
   "execution_count": 180,
   "metadata": {},
   "outputs": [
    {
     "name": "stdout",
     "output_type": "stream",
     "text": [
      "banana\n",
      "cherry\n",
      "apple\n"
     ]
    }
   ],
   "source": [
    "#Loop Items\n",
    "thisset = {\"apple\", \"banana\", \"cherry\"}\n",
    "\n",
    "for x in thisset:\n",
    "  print(x)"
   ]
  },
  {
   "cell_type": "code",
   "execution_count": 181,
   "metadata": {},
   "outputs": [
    {
     "name": "stdout",
     "output_type": "stream",
     "text": [
      "{1, 2, 3, 'a', 'b', 'c'}\n"
     ]
    }
   ],
   "source": [
    "#Join Two Sets\n",
    "#Union\n",
    "set1 = {\"a\", \"b\" , \"c\"}\n",
    "set2 = {1, 2, 3}\n",
    "\n",
    "set3 = set1.union(set2)\n",
    "print(set3)"
   ]
  },
  {
   "cell_type": "code",
   "execution_count": 182,
   "metadata": {},
   "outputs": [
    {
     "name": "stdout",
     "output_type": "stream",
     "text": [
      "{1, 2, 3, 'a', 'b', 'c'}\n"
     ]
    }
   ],
   "source": [
    "#update\n",
    "set1 = {\"a\", \"b\" , \"c\"}\n",
    "set2 = {1, 2, 3}\n",
    "\n",
    "set1.update(set2)\n",
    "print(set1)\n",
    "#Note: Both union() and update() will exclude any duplicate items."
   ]
  },
  {
   "cell_type": "code",
   "execution_count": 183,
   "metadata": {},
   "outputs": [
    {
     "name": "stdout",
     "output_type": "stream",
     "text": [
      "{'apple'}\n"
     ]
    }
   ],
   "source": [
    "#Keep ONLY the Duplicates\n",
    "#The intersection_update() method will keep only the items that are present in both sets.\n",
    "x = {\"apple\", \"banana\", \"cherry\"}\n",
    "y = {\"google\", \"microsoft\", \"apple\"}\n",
    "\n",
    "x.intersection_update(y)\n",
    "\n",
    "print(x)"
   ]
  },
  {
   "cell_type": "code",
   "execution_count": 184,
   "metadata": {},
   "outputs": [
    {
     "name": "stdout",
     "output_type": "stream",
     "text": [
      "{'apple'}\n"
     ]
    }
   ],
   "source": [
    "#The intersection() method will return a new set, that only contains the items that are present in both sets.\n",
    "x = {\"apple\", \"banana\", \"cherry\"}\n",
    "y = {\"google\", \"microsoft\", \"apple\"}\n",
    "\n",
    "z = x.intersection(y)\n",
    "\n",
    "print(z)"
   ]
  },
  {
   "cell_type": "code",
   "execution_count": 185,
   "metadata": {},
   "outputs": [
    {
     "name": "stdout",
     "output_type": "stream",
     "text": [
      "{'banana', 'cherry', 'microsoft', 'google'}\n"
     ]
    }
   ],
   "source": [
    "#Keep All, But NOT the Duplicates\n",
    "#The symmetric_difference_update() method will keep only the elements that are NOT present in both sets.\n",
    "x = {\"apple\", \"banana\", \"cherry\"}\n",
    "y = {\"google\", \"microsoft\", \"apple\"}\n",
    "\n",
    "x.symmetric_difference_update(y)\n",
    "\n",
    "print(x)"
   ]
  },
  {
   "cell_type": "code",
   "execution_count": 186,
   "metadata": {},
   "outputs": [
    {
     "name": "stdout",
     "output_type": "stream",
     "text": [
      "{'cherry', 'banana', 'microsoft', 'google'}\n"
     ]
    }
   ],
   "source": [
    "#The symmetric_difference() method will return a new set, that contains only the elements that are NOT present in both sets.\n",
    "x = {\"apple\", \"banana\", \"cherry\"}\n",
    "y = {\"google\", \"microsoft\", \"apple\"}\n",
    "\n",
    "z = x.symmetric_difference(y)\n",
    "\n",
    "print(z)"
   ]
  },
  {
   "cell_type": "code",
   "execution_count": 193,
   "metadata": {},
   "outputs": [
    {
     "name": "stdout",
     "output_type": "stream",
     "text": [
      "{'ename': 'Pradnya', 'age': 31, 'dept': 'IT'}\n",
      "{'ename': 'Pradnya', 'age': 31, 'dept': 'HR'}\n",
      "3\n",
      "{'ename': 'Pradnya', 'age': 31, 'dept': 'IT', 'Vehicles': ['Activa', 'i10']}\n"
     ]
    }
   ],
   "source": [
    "#Python Dictionaries\n",
    "#Dictionary items are ordered, changeable, and does not allow duplicates.\n",
    "#Dictionary items are presented in key:value pairs, and can be referred to by using the key name.\n",
    "myDict={\n",
    "    'ename':'Pradnya',\n",
    "    'age':31,\n",
    "    'dept':'IT'\n",
    "}\n",
    "\n",
    "print(myDict)\n",
    "\n",
    "#no dups allowd\n",
    "myDict1={\n",
    "    'ename':'Pradnya',\n",
    "    'age':31,\n",
    "    'dept':'IT',\n",
    "    'dept':'HR'\n",
    "}\n",
    "print(myDict1)\n",
    "\n",
    "#len\n",
    "print(len(myDict1))\n",
    "\n",
    "#The values in dictionary items can be of any data type:\n",
    "#String, int, boolean, and list data types:\n",
    "myDict={\n",
    "    'ename':'Pradnya',\n",
    "    'age':31,\n",
    "    'dept':'IT',\n",
    "    'Vehicles': ['Activa','i10']\n",
    "}\n",
    "\n",
    "print(myDict)"
   ]
  },
  {
   "cell_type": "code",
   "execution_count": 200,
   "metadata": {},
   "outputs": [
    {
     "name": "stdout",
     "output_type": "stream",
     "text": [
      "Pradnya\n",
      "['Activa', 'i10']\n",
      "31\n",
      "dict_keys(['ename', 'age', 'dept', 'Vehicles'])\n"
     ]
    }
   ],
   "source": [
    "#Accessing Items\n",
    "myD={\n",
    "    'ename':'Pradnya',\n",
    "    'age':31,\n",
    "    'dept':'IT',\n",
    "    'Vehicles': ['Activa','i10']\n",
    "}\n",
    "\n",
    "print(myD['ename'])\n",
    "print(myD['Vehicles'])\n",
    "print(myD.get('age'))\n",
    "print(myD.keys())\n"
   ]
  },
  {
   "cell_type": "code",
   "execution_count": 204,
   "metadata": {},
   "outputs": [
    {
     "name": "stdout",
     "output_type": "stream",
     "text": [
      "dict_keys(['ename', 'age', 'dept', 'Vehicles'])\n",
      "dict_keys(['ename', 'age', 'dept', 'Vehicles', 'Address'])\n",
      "{'ename': 'Pradnya', 'age': 31, 'dept': 'IT', 'Vehicles': ['Activa', 'i10'], 'Address': 'India'}\n",
      "dict_values(['Pradnya', 31, 'IT', ['Activa', 'i10'], 'India'])\n",
      "{'ename': 'Pradnya', 'age': 31, 'dept': 'IT', 'Vehicles': ['Activa', 'i10'], 'Address': 'UK'}\n"
     ]
    }
   ],
   "source": [
    "#Adding keys\n",
    "myD={\n",
    "    'ename':'Pradnya',\n",
    "    'age':31,\n",
    "    'dept':'IT',\n",
    "    'Vehicles': ['Activa','i10']\n",
    "}\n",
    "\n",
    "print(myD.keys())\n",
    "myD['Address']='India'\n",
    "print(myD.keys())\n",
    "print(myD)\n",
    "\n",
    "print(myD.values())\n",
    "myD['Address']='UK'\n",
    "print(myD)"
   ]
  },
  {
   "cell_type": "code",
   "execution_count": 205,
   "metadata": {},
   "outputs": [
    {
     "name": "stdout",
     "output_type": "stream",
     "text": [
      "dict_items([('ename', 'Pradnya'), ('age', 31), ('dept', 'IT'), ('Vehicles', ['Activa', 'i10'])])\n"
     ]
    }
   ],
   "source": [
    "#getitems\n",
    "#The items() method will return each item in a dictionary  as tuples in a list.\n",
    "myD={\n",
    "    'ename':'Pradnya',\n",
    "    'age':31,\n",
    "    'dept':'IT',\n",
    "    'Vehicles': ['Activa','i10']\n",
    "}\n",
    "print(myD.items())\n"
   ]
  },
  {
   "cell_type": "code",
   "execution_count": 206,
   "metadata": {},
   "outputs": [
    {
     "name": "stdout",
     "output_type": "stream",
     "text": [
      "age key exists in dictionary\n"
     ]
    }
   ],
   "source": [
    "#Check if Key Exists\n",
    "myD={\n",
    "    'ename':'Pradnya',\n",
    "    'age':31,\n",
    "    'dept':'IT',\n",
    "    'Vehicles': ['Activa','i10']\n",
    "}\n",
    "if 'age' in myD:\n",
    "    print('age key exists in dictionary')"
   ]
  },
  {
   "cell_type": "code",
   "execution_count": 208,
   "metadata": {},
   "outputs": [
    {
     "name": "stdout",
     "output_type": "stream",
     "text": [
      "{'ename': 'Pradnya', 'age': 30, 'dept': 'IT', 'Vehicles': ['Activa', 'i10']}\n",
      "{'ename': 'Pradnya', 'age': 30, 'dept': 'HR', 'Vehicles': ['Activa', 'i10']}\n"
     ]
    }
   ],
   "source": [
    "#Change Values\n",
    "myD={\n",
    "    'ename':'Pradnya',\n",
    "    'age':31,\n",
    "    'dept':'IT',\n",
    "    'Vehicles': ['Activa','i10']\n",
    "}\n",
    "myD['age']=30\n",
    "print(myD)\n",
    "\n",
    "myD.update({'dept':'HR'})\n",
    "print(myD)"
   ]
  },
  {
   "cell_type": "code",
   "execution_count": 209,
   "metadata": {},
   "outputs": [
    {
     "name": "stdout",
     "output_type": "stream",
     "text": [
      "{'ename': 'Pradnya', 'age': 31, 'dept': 'IT', 'Vehicles': ['Activa', 'i10'], 'Address': 'India'}\n"
     ]
    }
   ],
   "source": [
    "#Adding Items\n",
    "myD={\n",
    "    'ename':'Pradnya',\n",
    "    'age':31,\n",
    "    'dept':'IT',\n",
    "    'Vehicles': ['Activa','i10']\n",
    "}\n",
    "\n",
    "myD['Address']='India'\n",
    "\n",
    "print(myD)\n"
   ]
  },
  {
   "cell_type": "code",
   "execution_count": 214,
   "metadata": {},
   "outputs": [
    {
     "name": "stdout",
     "output_type": "stream",
     "text": [
      "{'ename': 'Pradnya', 'dept': 'IT', 'Vehicles': ['Activa', 'i10']}\n",
      "{'ename': 'Pradnya', 'dept': 'IT'}\n",
      "{'ename': 'Pradnya'}\n",
      "{}\n"
     ]
    }
   ],
   "source": [
    "#Removing Items\n",
    "myD={\n",
    "    'ename':'Pradnya',\n",
    "    'age':31,\n",
    "    'dept':'IT',\n",
    "    'Vehicles': ['Activa','i10']\n",
    "}\n",
    "\n",
    "myD.pop('age')\n",
    "print(myD)\n",
    "\n",
    "#The popitem() method removes the last inserted item\n",
    "myD.popitem()\n",
    "print(myD)\n",
    "\n",
    "#The del keyword removes the item with the specified key name:\n",
    "del myD['dept']\n",
    "print(myD)\n",
    "\n",
    "#he del keyword can also delete the dictionary completely:\n",
    "del myD\n",
    "\n",
    "#The clear() method empties the dictionary:\n",
    "myD={\n",
    "    'ename':'Pradnya',\n",
    "    'age':31,\n",
    "    'dept':'IT',\n",
    "    'Vehicles': ['Activa','i10']\n",
    "}\n",
    "\n",
    "myD.clear()\n",
    "print(myD)"
   ]
  },
  {
   "cell_type": "code",
   "execution_count": 219,
   "metadata": {},
   "outputs": [
    {
     "name": "stdout",
     "output_type": "stream",
     "text": [
      "ename\n",
      "age\n",
      "dept\n",
      "Vehicles\n",
      "Pradnya\n",
      "31\n",
      "IT\n",
      "['Activa', 'i10']\n",
      "Pradnya\n",
      "31\n",
      "IT\n",
      "['Activa', 'i10']\n",
      "ename\n",
      "age\n",
      "dept\n",
      "Vehicles\n",
      "ename Pradnya\n",
      "age 31\n",
      "dept IT\n",
      "Vehicles ['Activa', 'i10']\n"
     ]
    }
   ],
   "source": [
    "#loop thru a dictionary\n",
    "myD={\n",
    "    'ename':'Pradnya',\n",
    "    'age':31,\n",
    "    'dept':'IT',\n",
    "    'Vehicles': ['Activa','i10']\n",
    "}\n",
    "\n",
    "\n",
    "for x in myD:\n",
    "    print(x)\n",
    "    \n",
    "    \n",
    "for x in myD:\n",
    "    print(myD[x])\n",
    "    \n",
    "for x in myD.values():\n",
    "  print(x)    \n",
    "    \n",
    "for x in myD.keys():\n",
    "  print(x)     \n",
    "\n",
    "for x,y in myD.items():\n",
    "    print(x,y)"
   ]
  },
  {
   "cell_type": "code",
   "execution_count": 221,
   "metadata": {},
   "outputs": [
    {
     "name": "stdout",
     "output_type": "stream",
     "text": [
      "{'ename': 'Pradnya', 'age': 31, 'dept': 'IT', 'Vehicles': ['Activa', 'i10']}\n",
      "{'brand': 'Ford', 'model': 'Mustang', 'year': 1964}\n"
     ]
    }
   ],
   "source": [
    "#Copy Dictionary\n",
    "\n",
    "myD={\n",
    "    'ename':'Pradnya',\n",
    "    'age':31,\n",
    "    'dept':'IT',\n",
    "    'Vehicles': ['Activa','i10']\n",
    "}\n",
    "\n",
    "myD1=myD.copy()\n",
    "\n",
    "print(myD1)\n",
    "\n",
    "thisdict = {\n",
    "  \"brand\": \"Ford\",\n",
    "  \"model\": \"Mustang\",\n",
    "  \"year\": 1964\n",
    "}\n",
    "mydict = dict(thisdict)\n",
    "print(mydict)"
   ]
  },
  {
   "cell_type": "code",
   "execution_count": 226,
   "metadata": {},
   "outputs": [
    {
     "name": "stdout",
     "output_type": "stream",
     "text": [
      "{'member1': {'name': 'Pradnya', 'age': 31}, 'member2': {'name': 'Miraya', 'age': 2}, 'member3': {'name': 'Dhruv', 'age': 31}}\n",
      "dict_keys(['member1', 'member2', 'member3'])\n"
     ]
    }
   ],
   "source": [
    "#Nested Dictionaries-I\n",
    "\n",
    "myFamily={\n",
    "    'member1':{\n",
    "        'name':'Pradnya',\n",
    "        'age':31\n",
    "    },\n",
    "    'member2':{\n",
    "        'name':'Miraya',\n",
    "        'age':2\n",
    "    },\n",
    "    'member3':{\n",
    "        'name':'Dhruv',\n",
    "        'age':31\n",
    "    }\n",
    "    \n",
    "}\n",
    "\n",
    "print(myFamily)\n",
    "print(myFamily.keys())\n",
    "\n",
    "\n"
   ]
  },
  {
   "cell_type": "code",
   "execution_count": 233,
   "metadata": {},
   "outputs": [
    {
     "name": "stdout",
     "output_type": "stream",
     "text": [
      "{'child1': {'name': 'abc', 'age': 21}, 'child2': {'name': 'xyz', 'age': 22}, 'child3': {'name': 'uvw', 'age': 23}}\n",
      "---------------------------------------------------------\n",
      "dict_items([('child1', {'name': 'abc', 'age': 21}), ('child2', {'name': 'xyz', 'age': 22}), ('child3', {'name': 'uvw', 'age': 23})])\n",
      "---------------------------------------------------------\n",
      "dict_items([('name', 'abc'), ('age', 21)])\n"
     ]
    }
   ],
   "source": [
    "#Nested Dictionaries-II\n",
    "member1={\n",
    "    'name':'abc',\n",
    "    'age':21\n",
    "}\n",
    "member2={\n",
    "    'name':'xyz',\n",
    "    'age':22\n",
    "}\n",
    "member3={\n",
    "    'name':'uvw',\n",
    "    'age':23\n",
    "}\n",
    "\n",
    "myFamily={\n",
    "    'child1': member1,\n",
    "    'child2':member2,\n",
    "    'child3':member3\n",
    "    \n",
    "}\n",
    "\n",
    "\n",
    "print(myFamily)\n",
    "print('---------------------------------------------------------')\n",
    "print(myFamily.items())\n",
    "print('---------------------------------------------------------')\n",
    "print(member1.items())"
   ]
  },
  {
   "cell_type": "code",
   "execution_count": 239,
   "metadata": {},
   "outputs": [
    {
     "name": "stdout",
     "output_type": "stream",
     "text": [
      "y is greater than x\n"
     ]
    }
   ],
   "source": [
    "#if..Else\n",
    "x=5\n",
    "y=6\n",
    "if x>y:\n",
    "    print('x is greater than y')\n",
    "elif x==y:\n",
    "    print('x is  equal to y')\n",
    "else:\n",
    "    print('y is greater than x')"
   ]
  },
  {
   "cell_type": "code",
   "execution_count": 241,
   "metadata": {},
   "outputs": [
    {
     "name": "stdout",
     "output_type": "stream",
     "text": [
      "a is greater than b\n",
      "B\n"
     ]
    }
   ],
   "source": [
    "#Short Hand If\n",
    "a=10\n",
    "b=8\n",
    "if a > b: print(\"a is greater than b\")\n",
    "    \n",
    "#Short Hand If ... Else\n",
    "a = 2\n",
    "b = 330\n",
    "print(\"A\") if a > b else print(\"B\")"
   ]
  },
  {
   "cell_type": "code",
   "execution_count": 244,
   "metadata": {},
   "outputs": [
    {
     "name": "stdout",
     "output_type": "stream",
     "text": [
      "x is greater than 10\n",
      "and also above 20!\n"
     ]
    }
   ],
   "source": [
    "#Nested If\n",
    "x=40\n",
    "if x>10:\n",
    "        print('x is greater than 10')\n",
    "        if x>20:\n",
    "            print('and also above 20!')\n",
    "        else:\n",
    "            print('but not above 20')"
   ]
  },
  {
   "cell_type": "code",
   "execution_count": 245,
   "metadata": {},
   "outputs": [],
   "source": [
    "#The pass Statement\n",
    "a = 33\n",
    "b = 200\n",
    "\n",
    "if b > a:\n",
    "  pass"
   ]
  },
  {
   "cell_type": "code",
   "execution_count": 246,
   "metadata": {},
   "outputs": [
    {
     "name": "stdout",
     "output_type": "stream",
     "text": [
      "1\n",
      "2\n",
      "4\n",
      "5\n",
      "6\n"
     ]
    }
   ],
   "source": [
    "#while Loop\n",
    "#continue\n",
    "i = 0\n",
    "while i < 6:\n",
    "  i += 1\n",
    "  if i == 3:\n",
    "    continue\n",
    "  print(i)"
   ]
  },
  {
   "cell_type": "code",
   "execution_count": 247,
   "metadata": {},
   "outputs": [
    {
     "name": "stdout",
     "output_type": "stream",
     "text": [
      "1\n",
      "2\n",
      "3\n"
     ]
    }
   ],
   "source": [
    "#break\n",
    "i = 1\n",
    "while i < 6:\n",
    "  print(i)\n",
    "  if i == 3:\n",
    "    break\n",
    "  i += 1"
   ]
  },
  {
   "cell_type": "code",
   "execution_count": 248,
   "metadata": {},
   "outputs": [
    {
     "name": "stdout",
     "output_type": "stream",
     "text": [
      "1\n",
      "2\n",
      "3\n",
      "4\n",
      "5\n",
      "i is no longer less than 6\n"
     ]
    }
   ],
   "source": [
    "#else statement\n",
    "i = 1\n",
    "while i < 6:\n",
    "  print(i)\n",
    "  i += 1\n",
    "else:\n",
    "  print(\"i is no longer less than 6\")"
   ]
  },
  {
   "cell_type": "code",
   "execution_count": 251,
   "metadata": {},
   "outputs": [
    {
     "name": "stdout",
     "output_type": "stream",
     "text": [
      "b\n",
      "a\n",
      "n\n",
      "a\n",
      "n\n",
      "a\n",
      "apple\n",
      "banana\n",
      "apple\n",
      "cherry\n"
     ]
    }
   ],
   "source": [
    "#for loop\n",
    "for x in \"banana\":\n",
    "  print(x)\n",
    "\n",
    "#break\n",
    "fruits = [\"apple\", \"banana\", \"cherry\"]\n",
    "for x in fruits:\n",
    "  print(x)\n",
    "  if x == \"banana\":\n",
    "    break\n",
    "    \n",
    "#continue\n",
    "fruits = [\"apple\", \"banana\", \"cherry\"]\n",
    "for x in fruits:\n",
    "  if x == \"banana\":\n",
    "    continue\n",
    "  print(x)"
   ]
  },
  {
   "cell_type": "code",
   "execution_count": 254,
   "metadata": {},
   "outputs": [
    {
     "name": "stdout",
     "output_type": "stream",
     "text": [
      "0\n",
      "1\n",
      "2\n",
      "3\n",
      "4\n",
      "5\n",
      "2\n",
      "3\n",
      "4\n",
      "5\n",
      "2\n",
      "5\n",
      "8\n",
      "11\n",
      "14\n",
      "17\n",
      "20\n",
      "23\n",
      "26\n",
      "29\n"
     ]
    }
   ],
   "source": [
    "#range \n",
    "for x in range(6):\n",
    "  print(x)\n",
    "\n",
    "for x in range(2, 6):\n",
    "  print(x)\n",
    "\n",
    "#Increment the sequence with 3 (default is 1):\n",
    "\n",
    "for x in range(2, 30, 3):\n",
    "  print(x)"
   ]
  },
  {
   "cell_type": "code",
   "execution_count": 255,
   "metadata": {},
   "outputs": [
    {
     "name": "stdout",
     "output_type": "stream",
     "text": [
      "0\n",
      "1\n",
      "2\n"
     ]
    }
   ],
   "source": [
    "#else in for loop\n",
    "for x in range(6):\n",
    "  if x == 3: break\n",
    "  print(x)\n",
    "else:\n",
    "  print(\"Finally finished!\")"
   ]
  },
  {
   "cell_type": "code",
   "execution_count": 256,
   "metadata": {},
   "outputs": [],
   "source": [
    "#pass\n",
    "for x in [0, 1, 2]:\n",
    "  pass"
   ]
  },
  {
   "cell_type": "code",
   "execution_count": 259,
   "metadata": {},
   "outputs": [
    {
     "name": "stdout",
     "output_type": "stream",
     "text": [
      "Hello,World !!!\n"
     ]
    }
   ],
   "source": [
    "#Python Functions\n",
    "def my_Func():\n",
    "    print('Hello,World !!!')\n",
    "    \n",
    "my_Func()   "
   ]
  },
  {
   "cell_type": "code",
   "execution_count": 260,
   "metadata": {},
   "outputs": [
    {
     "name": "stdout",
     "output_type": "stream",
     "text": [
      "Hello Pradnya\n"
     ]
    }
   ],
   "source": [
    "def my_Func(fname):\n",
    "    print('Hello '+fname)\n",
    "    \n",
    "my_Func('Pradnya')    "
   ]
  },
  {
   "cell_type": "code",
   "execution_count": 261,
   "metadata": {},
   "outputs": [
    {
     "name": "stdout",
     "output_type": "stream",
     "text": [
      "I would love to have cherries\n"
     ]
    }
   ],
   "source": [
    "#Arbitrary Arguments, *args\n",
    "#If the number of arguments is unknown, add a * before the parameter name:\n",
    "\n",
    "def my_Func(*fruits):\n",
    "    print('I would love to have '+fruits[1])\n",
    "    \n",
    "my_Func('apples','cherries','bananas')    "
   ]
  },
  {
   "cell_type": "code",
   "execution_count": 262,
   "metadata": {},
   "outputs": [
    {
     "name": "stdout",
     "output_type": "stream",
     "text": [
      "I like to eat banana\n"
     ]
    }
   ],
   "source": [
    "#Keyword Arguments\n",
    "#You can also send arguments with the key = value syntax.\n",
    "\n",
    "def my_Func(fruit1,fruit2,fruit3):\n",
    "    print('I like to eat '+fruit2)\n",
    "    \n",
    "my_Func(fruit1='apple',fruit2='banana',fruit3='oranges')"
   ]
  },
  {
   "cell_type": "code",
   "execution_count": 263,
   "metadata": {},
   "outputs": [
    {
     "name": "stdout",
     "output_type": "stream",
     "text": [
      "I like to eat oranges\n"
     ]
    }
   ],
   "source": [
    "#Arbitrary Keyword Arguments, **kwargs\n",
    "#If you do not know how many keyword arguments that will be passed into your function, add two asterisk: ** before the parameter name in the function definition.\n",
    "#This way the function will receive a dictionary of arguments, and can access the items accordingly:\n",
    "\n",
    "def my_Func(**fruit):\n",
    "    print('I like to eat '+fruit['fruit3'])\n",
    "    \n",
    "my_Func(fruit1='apple',fruit2='banana',fruit3='oranges')"
   ]
  },
  {
   "cell_type": "code",
   "execution_count": 264,
   "metadata": {},
   "outputs": [
    {
     "name": "stdout",
     "output_type": "stream",
     "text": [
      "I am from Sweden\n",
      "I am from India\n",
      "I am from Norway\n",
      "I am from Brazil\n"
     ]
    }
   ],
   "source": [
    "#Default Parameter Value\n",
    "def my_function(country = \"Norway\"):\n",
    "  print(\"I am from \" + country)\n",
    "\n",
    "my_function(\"Sweden\")\n",
    "my_function(\"India\")\n",
    "my_function()\n",
    "my_function(\"Brazil\")"
   ]
  },
  {
   "cell_type": "code",
   "execution_count": 265,
   "metadata": {},
   "outputs": [
    {
     "name": "stdout",
     "output_type": "stream",
     "text": [
      "15\n",
      "25\n",
      "45\n"
     ]
    }
   ],
   "source": [
    "#Return Values\n",
    "# let a function return a value, use the return statement:\n",
    "\n",
    "def my_function(x):\n",
    "  return 5 * x\n",
    "\n",
    "print(my_function(3))\n",
    "print(my_function(5))\n",
    "print(my_function(9))"
   ]
  },
  {
   "cell_type": "code",
   "execution_count": 268,
   "metadata": {},
   "outputs": [
    {
     "name": "stdout",
     "output_type": "stream",
     "text": [
      "50\n",
      "30\n"
     ]
    }
   ],
   "source": [
    "#Python Lambda\n",
    "#lambda arguments : expression\n",
    "#A lambda function can take any number of arguments, but can only have one expression.\n",
    "x = lambda a : a * 10\n",
    "print(x(5))\n",
    "\n",
    "x = lambda a, b : a * b\n",
    "print(x(5, 6))"
   ]
  },
  {
   "cell_type": "code",
   "execution_count": 270,
   "metadata": {},
   "outputs": [
    {
     "name": "stdout",
     "output_type": "stream",
     "text": [
      "22\n"
     ]
    }
   ],
   "source": [
    "#Why Use Lambda Functions?\n",
    "#The power of lambda is better shown when you use them as an anonymous function inside another function.\n",
    "def myfunc(n):\n",
    "  return lambda a : a * n\n",
    "\n",
    "mydoubler = myfunc(2)\n",
    "\n",
    "print(mydoubler(11))"
   ]
  },
  {
   "cell_type": "code",
   "execution_count": 271,
   "metadata": {},
   "outputs": [
    {
     "name": "stdout",
     "output_type": "stream",
     "text": [
      "5\n"
     ]
    }
   ],
   "source": [
    "#Python Classes/Objects\n",
    "class MyClass:\n",
    "  x = 5\n",
    "\n",
    "p=MyClass()\n",
    "print(p.x)"
   ]
  },
  {
   "cell_type": "code",
   "execution_count": 278,
   "metadata": {},
   "outputs": [
    {
     "name": "stdout",
     "output_type": "stream",
     "text": [
      "Mumbai\n",
      "India\n",
      "Chennai\n"
     ]
    }
   ],
   "source": [
    "#The __init__() Function\n",
    "#All classes have a function called __init__(), which is always executed when the class is being initiated.\n",
    "#Use the __init__() function to assign values to object properties, or other operations that are necessary to do when the object is being created:\n",
    "\n",
    "class Address:\n",
    "    def __init__(self, City, Country):\n",
    "        self.City=City\n",
    "        self.Country=Country\n",
    "        \n",
    "c1=Address('Mumbai', 'India')\n",
    "\n",
    "print(c1.City)\n",
    "print(c1.Country)\n",
    "c1.City='Chennai'\n",
    "print(c1.City) "
   ]
  },
  {
   "cell_type": "code",
   "execution_count": 283,
   "metadata": {},
   "outputs": [
    {
     "name": "stdout",
     "output_type": "stream",
     "text": [
      "My address is Banglore , India\n"
     ]
    }
   ],
   "source": [
    "#Object Methods\n",
    "#Objects can also contain methods. Methods in objects are functions that belong to the object.\n",
    "#Note: The self parameter is a reference to the current instance of the class, and is used to access variables that belong to the class.\n",
    "#It does not have to be named self , you can call it whatever you like, but it has to be the first parameter of any function in the class:\n",
    "class Address:\n",
    "    def __init__(self,city,country):\n",
    "        self.city=city\n",
    "        self.country=country\n",
    "        \n",
    "    def myFunc(self):\n",
    "        print('My address is '+ self.city+' , '+ self.country)\n",
    "        \n",
    "c1=Address('Banglore','India')\n",
    "\n",
    "c1.myFunc()"
   ]
  },
  {
   "cell_type": "code",
   "execution_count": 293,
   "metadata": {},
   "outputs": [
    {
     "name": "stdout",
     "output_type": "stream",
     "text": [
      "Ryan Reynolds\n",
      "Blake Lively\n",
      "Miraya Vinayak\n",
      "Miraya Vinayak 9\n"
     ]
    }
   ],
   "source": [
    "#Python Inheritance\n",
    "#Inheritance allows us to define a class that inherits all the methods and properties from another class.\n",
    "#Parent class is the class being inherited from, also called base class.\n",
    "#Child class is the class that inherits from another class, also called derived class.\n",
    "class Person:\n",
    "    def __init__(self,name,surname):\n",
    "        self.name=name\n",
    "        self.surname=surname\n",
    "      \n",
    "        \n",
    "    def return_person(self):\n",
    "        print(self.name +\" \"+self.surname )\n",
    "     \n",
    "        \n",
    "class Engineer(Person):\n",
    "    pass\n",
    "\n",
    "class HR(Person):\n",
    "    def __init__(self,name,surname,yoe):\n",
    "        Person.__init__(self,name,surname)\n",
    "        self.years_of_experience=yoe\n",
    "        \n",
    "    def return_details(self):\n",
    "        print(self.name +\" \"+self.surname +\" \"+ str(self.years_of_experience) )\n",
    "        \n",
    "c1=Person('Ryan','Reynolds') \n",
    "c1.return_person()\n",
    "s1=Engineer('Blake','Lively')\n",
    "s1.return_person()\n",
    "h1=HR('Miraya','Vinayak',9)\n",
    "h1.return_person()\n",
    "h1.return_details()\n"
   ]
  },
  {
   "cell_type": "code",
   "execution_count": 297,
   "metadata": {},
   "outputs": [
    {
     "name": "stdout",
     "output_type": "stream",
     "text": [
      "apple\n",
      "banana\n",
      "cherry\n",
      "b\n",
      "a\n"
     ]
    }
   ],
   "source": [
    "#iter and next methods\n",
    "\n",
    "mytuple = (\"apple\", \"banana\", \"cherry\")\n",
    "myit = iter(mytuple)\n",
    "\n",
    "print(next(myit))\n",
    "print(next(myit))\n",
    "print(next(myit))\n",
    "\n",
    "mystr = \"banana\"\n",
    "myit = iter(mystr)\n",
    "\n",
    "print(next(myit))\n",
    "print(next(myit))"
   ]
  },
  {
   "cell_type": "code",
   "execution_count": 299,
   "metadata": {},
   "outputs": [
    {
     "name": "stdout",
     "output_type": "stream",
     "text": [
      "20\n",
      "20\n"
     ]
    }
   ],
   "source": [
    "#scope\n",
    "x=20\n",
    "\n",
    "def myFunc():\n",
    "    print(x)\n",
    "    \n",
    "myFunc()\n",
    "print(x)\n"
   ]
  },
  {
   "cell_type": "code",
   "execution_count": 300,
   "metadata": {},
   "outputs": [
    {
     "name": "stdout",
     "output_type": "stream",
     "text": [
      "30\n",
      "20\n"
     ]
    }
   ],
   "source": [
    "x=20\n",
    "\n",
    "def myFunc():\n",
    "    x=30\n",
    "    print(x)\n",
    "    \n",
    "myFunc()\n",
    "print(x)"
   ]
  },
  {
   "cell_type": "code",
   "execution_count": 301,
   "metadata": {},
   "outputs": [
    {
     "name": "stdout",
     "output_type": "stream",
     "text": [
      "30\n",
      "30\n"
     ]
    }
   ],
   "source": [
    "x=20\n",
    "\n",
    "def myFunc():\n",
    "    global x\n",
    "    x=30\n",
    "    print(x)\n",
    "    \n",
    "myFunc()\n",
    "print(x)"
   ]
  },
  {
   "cell_type": "code",
   "execution_count": 306,
   "metadata": {},
   "outputs": [
    {
     "name": "stdout",
     "output_type": "stream",
     "text": [
      "Windows\n",
      "['DEV_NULL', '_UNIXCONFDIR', '_WIN32_CLIENT_RELEASES', '_WIN32_SERVER_RELEASES', '__builtins__', '__cached__', '__copyright__', '__doc__', '__file__', '__loader__', '__name__', '__package__', '__spec__', '__version__', '_comparable_version', '_component_re', '_default_architecture', '_dist_try_harder', '_follow_symlinks', '_ironpython26_sys_version_parser', '_ironpython_sys_version_parser', '_java_getprop', '_libc_search', '_linux_distribution', '_lsb_release_version', '_mac_ver_xml', '_node', '_norm_version', '_parse_release_file', '_platform', '_platform_cache', '_pypy_sys_version_parser', '_release_filename', '_release_version', '_supported_dists', '_sys_version', '_sys_version_cache', '_sys_version_parser', '_syscmd_file', '_syscmd_uname', '_syscmd_ver', '_uname_cache', '_ver_output', '_ver_stages', 'architecture', 'collections', 'dist', 'java_ver', 'libc_ver', 'linux_distribution', 'mac_ver', 'machine', 'node', 'os', 'platform', 'popen', 'processor', 'python_branch', 'python_build', 'python_compiler', 'python_implementation', 'python_revision', 'python_version', 'python_version_tuple', 're', 'release', 'subprocess', 'sys', 'system', 'system_alias', 'uname', 'uname_result', 'version', 'warnings', 'win32_ver']\n"
     ]
    }
   ],
   "source": [
    "#Python Modules\n",
    "import platform\n",
    "\n",
    "x = platform.system()\n",
    "print(x)\n",
    "\n",
    "#There is a built-in function to list all the function names (or variable names) in a module. The dir() function:\n",
    "import platform\n",
    "\n",
    "x = dir(platform)\n",
    "print(x)"
   ]
  },
  {
   "cell_type": "code",
   "execution_count": 310,
   "metadata": {},
   "outputs": [
    {
     "name": "stdout",
     "output_type": "stream",
     "text": [
      "2021-06-04 17:37:48.070795\n",
      "2021\n",
      "4\n"
     ]
    }
   ],
   "source": [
    "#Python Datetime\n",
    "import datetime\n",
    "\n",
    "x = datetime.datetime.now()\n",
    "print(x)\n",
    "print(x.year)\n",
    "print(x.day)"
   ]
  },
  {
   "cell_type": "code",
   "execution_count": 312,
   "metadata": {},
   "outputs": [
    {
     "name": "stdout",
     "output_type": "stream",
     "text": [
      "2021-06-04 00:00:00\n"
     ]
    }
   ],
   "source": [
    "#Create a date object:\n",
    "\n",
    "import datetime\n",
    "\n",
    "x = datetime.datetime(2021, 6, 4)\n",
    "\n",
    "print(x)"
   ]
  },
  {
   "cell_type": "code",
   "execution_count": 319,
   "metadata": {},
   "outputs": [
    {
     "name": "stdout",
     "output_type": "stream",
     "text": [
      "June\n",
      "Friday\n",
      "\n"
     ]
    }
   ],
   "source": [
    "#The datetime object has a method for formatting date objects into readable strings.\n",
    "#The method is called strftime(), and takes one parameter, format, to specify the format of the returned string:\n",
    "import datetime\n",
    "\n",
    "x = datetime.datetime.now()\n",
    "\n",
    "print(x.strftime(\"%B\"))\n",
    "print(x.strftime(\"%A\"))"
   ]
  },
  {
   "cell_type": "code",
   "execution_count": 321,
   "metadata": {},
   "outputs": [
    {
     "name": "stdout",
     "output_type": "stream",
     "text": [
      "4\n",
      "6\n"
     ]
    }
   ],
   "source": [
    "#Python Math\n",
    "x=min(4,5,6)\n",
    "print(x)\n",
    "\n",
    "y=abs(-6)\n",
    "print(y)"
   ]
  },
  {
   "cell_type": "code",
   "execution_count": 329,
   "metadata": {},
   "outputs": [
    {
     "name": "stdout",
     "output_type": "stream",
     "text": [
      "3.0\n"
     ]
    }
   ],
   "source": [
    "#The Math Module\n",
    "import math\n",
    "x=math.sqrt(9)\n",
    "print(x)"
   ]
  },
  {
   "cell_type": "code",
   "execution_count": 331,
   "metadata": {},
   "outputs": [
    {
     "name": "stdout",
     "output_type": "stream",
     "text": [
      "delta\n"
     ]
    }
   ],
   "source": [
    "#Python JSON\n",
    "#If you have a JSON string, you can parse it by using the json.loads() method.\n",
    "import json\n",
    "#json string\n",
    "x='{\"file_type\":\"delta\", \"delimeter\":\"Comma\",\"no_fields\":30}'\n",
    "\n",
    "#parse x\n",
    "y=json.loads(x)\n",
    "\n",
    "#the result is a python dictionary\n",
    "print(y[\"file_type\"])"
   ]
  },
  {
   "cell_type": "code",
   "execution_count": null,
   "metadata": {},
   "outputs": [],
   "source": [
    "#Convert from Python to JSON\n",
    "import json\n",
    "#python dict\n",
    "x={\"file_type\":\"delta\",\n",
    "   \"delimeter\":\"Comma\",\n",
    "   \"no_fields\":30}\n",
    "\n",
    "# convert into JSON:\n",
    "y=json.dumps(x)\n",
    "print(x)"
   ]
  },
  {
   "cell_type": "code",
   "execution_count": 334,
   "metadata": {},
   "outputs": [
    {
     "name": "stdout",
     "output_type": "stream",
     "text": [
      "{\"name\": \"John\", \"age\": 30}\n",
      "[\"apple\", \"bananas\"]\n",
      "[\"apple\", \"bananas\"]\n",
      "\"hello\"\n",
      "42\n",
      "31.76\n",
      "true\n",
      "false\n",
      "null\n"
     ]
    }
   ],
   "source": [
    "#You can convert Python objects of the following types, into JSON strings:\n",
    "\n",
    "#dict\n",
    "#list\n",
    "#tuple\n",
    "#string\n",
    "#int\n",
    "#float\n",
    "#True\n",
    "#False\n",
    "#None\n",
    "#Example\n",
    "#Convert Python objects into JSON strings, and print the values:\n",
    "\n",
    "import json\n",
    "\n",
    "print(json.dumps({\"name\": \"John\", \"age\": 30}))\n",
    "print(json.dumps([\"apple\", \"bananas\"]))\n",
    "print(json.dumps((\"apple\", \"bananas\")))\n",
    "print(json.dumps(\"hello\"))\n",
    "print(json.dumps(42))\n",
    "print(json.dumps(31.76))\n",
    "print(json.dumps(True))\n",
    "print(json.dumps(False))\n",
    "print(json.dumps(None))\n"
   ]
  },
  {
   "cell_type": "code",
   "execution_count": null,
   "metadata": {},
   "outputs": [],
   "source": [
    "import json\n",
    "\n",
    "x = {\n",
    "  \"name\": \"John\",\n",
    "  \"age\": 30,\n",
    "  \"married\": True,\n",
    "  \"divorced\": False,\n",
    "  \"children\": (\"Ann\",\"Billy\"),\n",
    "  \"pets\": None,\n",
    "  \"cars\": [\n",
    "    {\"model\": \"BMW 230\", \"mpg\": 27.5},\n",
    "    {\"model\": \"Ford Edge\", \"mpg\": 24.1}\n",
    "  ]\n",
    "}\n",
    "\n",
    "print(json.dumps(x))\n",
    "json.dumps(x, indent=4)\n",
    "json.dumps(x, indent=4, sort_keys=True)"
   ]
  },
  {
   "cell_type": "code",
   "execution_count": null,
   "metadata": {},
   "outputs": [],
   "source": [
    "#Python RegEx\n",
    "#A RegEx, or Regular Expression, is a sequence of characters that forms a search pattern.\n",
    "#Search the string to see if it starts with \"The\" and ends with \"Spain\":\n",
    "\n",
    "import re\n",
    "\n",
    "txt = \"The rain in Spain\"\n",
    "x = re.search(\"^The.*Spain$\", txt)\n",
    "\n",
    "if x:\n",
    "  print(\"YES! We have a match!\")\n",
    "else:\n",
    "  print(\"No match\")"
   ]
  },
  {
   "cell_type": "code",
   "execution_count": null,
   "metadata": {},
   "outputs": [],
   "source": [
    "#Python Try Except\n",
    "#The try block lets you test a block of code for errors.\n",
    "#The except block lets you handle the error.\n",
    "#The finally block lets you execute code, regardless of the result of the try- and except blocks\n",
    "\n",
    "try:\n",
    "  print(m)\n",
    "except:\n",
    "  print(\"An exception occurred\")"
   ]
  },
  {
   "cell_type": "code",
   "execution_count": null,
   "metadata": {},
   "outputs": [],
   "source": [
    "try:\n",
    "  print(xb)\n",
    "except NameError:\n",
    "  print(\"Variable xb is not defined\")\n",
    "except:\n",
    "  print(\"Something else went wrong\")"
   ]
  },
  {
   "cell_type": "code",
   "execution_count": null,
   "metadata": {},
   "outputs": [],
   "source": [
    "try:\n",
    "  print(vx)\n",
    "except:\n",
    "  print(\"Something went wrong\")\n",
    "  pass\n",
    "finally:\n",
    "  print(\"The 'try except' is finished\")"
   ]
  },
  {
   "cell_type": "code",
   "execution_count": null,
   "metadata": {},
   "outputs": [],
   "source": [
    "#Raise an exception\n",
    "xtn = -1\n",
    "\n",
    "if xtn < 0:\n",
    "  raise Exception(\"Sorry, no numbers below zero\")"
   ]
  },
  {
   "cell_type": "code",
   "execution_count": null,
   "metadata": {},
   "outputs": [],
   "source": [
    "#Python User Input\n",
    "username = input(\"Enter username:\")\n",
    "print(\"Username is: \" + username)"
   ]
  },
  {
   "cell_type": "code",
   "execution_count": 1,
   "metadata": {},
   "outputs": [
    {
     "name": "stdout",
     "output_type": "stream",
     "text": [
      "hello\n"
     ]
    }
   ],
   "source": [
    "print(\"hello\")"
   ]
  },
  {
   "cell_type": "code",
   "execution_count": 2,
   "metadata": {},
   "outputs": [
    {
     "name": "stdout",
     "output_type": "stream",
     "text": [
      "The price is 49 dollars\n"
     ]
    }
   ],
   "source": [
    "#Python String Formatting\n",
    "price = 49\n",
    "txt = \"The price is {} dollars\"\n",
    "print(txt.format(price))"
   ]
  },
  {
   "cell_type": "code",
   "execution_count": 3,
   "metadata": {},
   "outputs": [
    {
     "name": "stdout",
     "output_type": "stream",
     "text": [
      "hello\n"
     ]
    }
   ],
   "source": []
  },
  {
   "cell_type": "code",
   "execution_count": null,
   "metadata": {},
   "outputs": [],
   "source": []
  }
 ],
 "metadata": {
  "kernelspec": {
   "display_name": "Python 3",
   "language": "python",
   "name": "python3"
  },
  "language_info": {
   "codemirror_mode": {
    "name": "ipython",
    "version": 3
   },
   "file_extension": ".py",
   "mimetype": "text/x-python",
   "name": "python",
   "nbconvert_exporter": "python",
   "pygments_lexer": "ipython3",
   "version": "3.7.4"
  }
 },
 "nbformat": 4,
 "nbformat_minor": 2
}
